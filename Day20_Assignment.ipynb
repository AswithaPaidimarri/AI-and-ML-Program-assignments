{
  "nbformat": 4,
  "nbformat_minor": 0,
  "metadata": {
    "colab": {
      "name": "Day20 Assignment.ipynb",
      "provenance": [],
      "collapsed_sections": []
    },
    "kernelspec": {
      "name": "python3",
      "display_name": "Python 3"
    }
  },
  "cells": [
    {
      "cell_type": "markdown",
      "metadata": {
        "id": "4Y1QEhDBpVM8"
      },
      "source": [
        "# **AI and ML Program by letsUpgrade**\n",
        "# **DAY 20 ASSIGNMENT**\n",
        "# **SUBMITTED BY**\n",
        "# **NAME:-PAIDIMARRI VENKATA SAI ASWITHA**"
      ]
    },
    {
      "cell_type": "markdown",
      "metadata": {
        "id": "ihsKMZXnVq7l"
      },
      "source": [
        "# **Question 1: Anova Three archers – Pat, Jack, and Alex are participating in an archery contest. They are shooting at targets with 10 evenly spaced concentric rings. The rings have score values from 1 through 10 assigned to them, with 10 being the highest. Each participant shoots 6 arrow, scoring the following points: Pat – 5, 4, 4, 3, 9, 4 Jack – 4, 8, 7, 5, 1, 5 Alex – 9, 9, 8, 10, 4, 10 Based on the above results we would like to know who the best archer is. In other words our null hypothesis is that the means of all populations are equal.**"
      ]
    },
    {
      "cell_type": "code",
      "metadata": {
        "id": "nz2l3i8gVon8"
      },
      "source": [
        "import pandas as pd"
      ],
      "execution_count": 1,
      "outputs": []
    },
    {
      "cell_type": "code",
      "metadata": {
        "id": "17aJU6lzWBQJ"
      },
      "source": [
        "Pat = [5, 4, 4, 3, 9, 4]\n",
        "Jack = [4, 8, 7, 5, 1, 5]\n",
        "Alex = [9, 9, 8, 10, 4, 10]"
      ],
      "execution_count": 2,
      "outputs": []
    },
    {
      "cell_type": "code",
      "metadata": {
        "id": "oJnrnA23WG6c"
      },
      "source": [
        "all_scores = Pat+Jack+Alex\n",
        "company_names = (['Pat'] * len(Pat)) +  (['Jack'] * len(Jack)) +  (['Alex'] * len(Alex))"
      ],
      "execution_count": 3,
      "outputs": []
    },
    {
      "cell_type": "code",
      "metadata": {
        "id": "sS7mxbyrWUCZ"
      },
      "source": [
        "data = pd.DataFrame({'names': company_names, 'score': all_scores})"
      ],
      "execution_count": 4,
      "outputs": []
    },
    {
      "cell_type": "code",
      "metadata": {
        "id": "DSpeljn0WXt2",
        "outputId": "f825f3bd-ec86-4462-baf7-36f7c791e286",
        "colab": {
          "base_uri": "https://localhost:8080/",
          "height": 580
        }
      },
      "source": [
        "data"
      ],
      "execution_count": 5,
      "outputs": [
        {
          "output_type": "execute_result",
          "data": {
            "text/html": [
              "<div>\n",
              "<style scoped>\n",
              "    .dataframe tbody tr th:only-of-type {\n",
              "        vertical-align: middle;\n",
              "    }\n",
              "\n",
              "    .dataframe tbody tr th {\n",
              "        vertical-align: top;\n",
              "    }\n",
              "\n",
              "    .dataframe thead th {\n",
              "        text-align: right;\n",
              "    }\n",
              "</style>\n",
              "<table border=\"1\" class=\"dataframe\">\n",
              "  <thead>\n",
              "    <tr style=\"text-align: right;\">\n",
              "      <th></th>\n",
              "      <th>names</th>\n",
              "      <th>score</th>\n",
              "    </tr>\n",
              "  </thead>\n",
              "  <tbody>\n",
              "    <tr>\n",
              "      <th>0</th>\n",
              "      <td>Pat</td>\n",
              "      <td>5</td>\n",
              "    </tr>\n",
              "    <tr>\n",
              "      <th>1</th>\n",
              "      <td>Pat</td>\n",
              "      <td>4</td>\n",
              "    </tr>\n",
              "    <tr>\n",
              "      <th>2</th>\n",
              "      <td>Pat</td>\n",
              "      <td>4</td>\n",
              "    </tr>\n",
              "    <tr>\n",
              "      <th>3</th>\n",
              "      <td>Pat</td>\n",
              "      <td>3</td>\n",
              "    </tr>\n",
              "    <tr>\n",
              "      <th>4</th>\n",
              "      <td>Pat</td>\n",
              "      <td>9</td>\n",
              "    </tr>\n",
              "    <tr>\n",
              "      <th>5</th>\n",
              "      <td>Pat</td>\n",
              "      <td>4</td>\n",
              "    </tr>\n",
              "    <tr>\n",
              "      <th>6</th>\n",
              "      <td>Jack</td>\n",
              "      <td>4</td>\n",
              "    </tr>\n",
              "    <tr>\n",
              "      <th>7</th>\n",
              "      <td>Jack</td>\n",
              "      <td>8</td>\n",
              "    </tr>\n",
              "    <tr>\n",
              "      <th>8</th>\n",
              "      <td>Jack</td>\n",
              "      <td>7</td>\n",
              "    </tr>\n",
              "    <tr>\n",
              "      <th>9</th>\n",
              "      <td>Jack</td>\n",
              "      <td>5</td>\n",
              "    </tr>\n",
              "    <tr>\n",
              "      <th>10</th>\n",
              "      <td>Jack</td>\n",
              "      <td>1</td>\n",
              "    </tr>\n",
              "    <tr>\n",
              "      <th>11</th>\n",
              "      <td>Jack</td>\n",
              "      <td>5</td>\n",
              "    </tr>\n",
              "    <tr>\n",
              "      <th>12</th>\n",
              "      <td>Alex</td>\n",
              "      <td>9</td>\n",
              "    </tr>\n",
              "    <tr>\n",
              "      <th>13</th>\n",
              "      <td>Alex</td>\n",
              "      <td>9</td>\n",
              "    </tr>\n",
              "    <tr>\n",
              "      <th>14</th>\n",
              "      <td>Alex</td>\n",
              "      <td>8</td>\n",
              "    </tr>\n",
              "    <tr>\n",
              "      <th>15</th>\n",
              "      <td>Alex</td>\n",
              "      <td>10</td>\n",
              "    </tr>\n",
              "    <tr>\n",
              "      <th>16</th>\n",
              "      <td>Alex</td>\n",
              "      <td>4</td>\n",
              "    </tr>\n",
              "    <tr>\n",
              "      <th>17</th>\n",
              "      <td>Alex</td>\n",
              "      <td>10</td>\n",
              "    </tr>\n",
              "  </tbody>\n",
              "</table>\n",
              "</div>"
            ],
            "text/plain": [
              "   names  score\n",
              "0    Pat      5\n",
              "1    Pat      4\n",
              "2    Pat      4\n",
              "3    Pat      3\n",
              "4    Pat      9\n",
              "5    Pat      4\n",
              "6   Jack      4\n",
              "7   Jack      8\n",
              "8   Jack      7\n",
              "9   Jack      5\n",
              "10  Jack      1\n",
              "11  Jack      5\n",
              "12  Alex      9\n",
              "13  Alex      9\n",
              "14  Alex      8\n",
              "15  Alex     10\n",
              "16  Alex      4\n",
              "17  Alex     10"
            ]
          },
          "metadata": {
            "tags": []
          },
          "execution_count": 5
        }
      ]
    },
    {
      "cell_type": "code",
      "metadata": {
        "id": "tBqN08L2WYs_",
        "outputId": "bb6c1a0e-1d27-43d9-9fb9-ad9796e2d7ff",
        "colab": {
          "base_uri": "https://localhost:8080/",
          "height": 166
        }
      },
      "source": [
        "data.groupby('names').mean()"
      ],
      "execution_count": 6,
      "outputs": [
        {
          "output_type": "execute_result",
          "data": {
            "text/html": [
              "<div>\n",
              "<style scoped>\n",
              "    .dataframe tbody tr th:only-of-type {\n",
              "        vertical-align: middle;\n",
              "    }\n",
              "\n",
              "    .dataframe tbody tr th {\n",
              "        vertical-align: top;\n",
              "    }\n",
              "\n",
              "    .dataframe thead th {\n",
              "        text-align: right;\n",
              "    }\n",
              "</style>\n",
              "<table border=\"1\" class=\"dataframe\">\n",
              "  <thead>\n",
              "    <tr style=\"text-align: right;\">\n",
              "      <th></th>\n",
              "      <th>score</th>\n",
              "    </tr>\n",
              "    <tr>\n",
              "      <th>names</th>\n",
              "      <th></th>\n",
              "    </tr>\n",
              "  </thead>\n",
              "  <tbody>\n",
              "    <tr>\n",
              "      <th>Alex</th>\n",
              "      <td>8.333333</td>\n",
              "    </tr>\n",
              "    <tr>\n",
              "      <th>Jack</th>\n",
              "      <td>5.000000</td>\n",
              "    </tr>\n",
              "    <tr>\n",
              "      <th>Pat</th>\n",
              "      <td>4.833333</td>\n",
              "    </tr>\n",
              "  </tbody>\n",
              "</table>\n",
              "</div>"
            ],
            "text/plain": [
              "          score\n",
              "names          \n",
              "Alex   8.333333\n",
              "Jack   5.000000\n",
              "Pat    4.833333"
            ]
          },
          "metadata": {
            "tags": []
          },
          "execution_count": 6
        }
      ]
    },
    {
      "cell_type": "code",
      "metadata": {
        "id": "vxawidMaWc53",
        "outputId": "9787182e-a3aa-4842-ca60-c4a1482d8a75",
        "colab": {
          "base_uri": "https://localhost:8080/",
          "height": 70
        }
      },
      "source": [
        "import statsmodels.api as sm\n",
        "from statsmodels.formula.api import ols"
      ],
      "execution_count": 7,
      "outputs": [
        {
          "output_type": "stream",
          "text": [
            "/usr/local/lib/python3.6/dist-packages/statsmodels/tools/_testing.py:19: FutureWarning: pandas.util.testing is deprecated. Use the functions in the public API at pandas.testing instead.\n",
            "  import pandas.util.testing as tm\n"
          ],
          "name": "stderr"
        }
      ]
    },
    {
      "cell_type": "markdown",
      "metadata": {
        "id": "fb2hB2ulWm3W"
      },
      "source": [
        "# Annova 1-Way Table"
      ]
    },
    {
      "cell_type": "code",
      "metadata": {
        "id": "6EL47z8eWiZd",
        "outputId": "9fde2020-e003-4793-fd75-7a3193cc863d",
        "colab": {
          "base_uri": "https://localhost:8080/",
          "height": 67
        }
      },
      "source": [
        "lm = ols('score ~ names',data=data).fit()\n",
        "table = sm.stats.anova_lm(lm)\n",
        "print(table)"
      ],
      "execution_count": 8,
      "outputs": [
        {
          "output_type": "stream",
          "text": [
            "            df     sum_sq    mean_sq         F    PR(>F)\n",
            "names      2.0  46.777778  23.388889  4.488273  0.029668\n",
            "Residual  15.0  78.166667   5.211111       NaN       NaN\n"
          ],
          "name": "stdout"
        }
      ]
    },
    {
      "cell_type": "code",
      "metadata": {
        "id": "QYhXKfVuWzaC",
        "outputId": "51f7e2b1-d146-4266-9aaa-39fbb422de6e",
        "colab": {
          "base_uri": "https://localhost:8080/",
          "height": 773
        }
      },
      "source": [
        "pip install pingouin"
      ],
      "execution_count": 10,
      "outputs": [
        {
          "output_type": "stream",
          "text": [
            "Collecting pingouin\n",
            "\u001b[?25l  Downloading https://files.pythonhosted.org/packages/e6/5f/4618f878765a8b7037b8831f19105c5c2764b26e5e9afa4a29c58fc11d26/pingouin-0.3.8.tar.gz (223kB)\n",
            "\r\u001b[K     |█▌                              | 10kB 10.6MB/s eta 0:00:01\r\u001b[K     |███                             | 20kB 3.1MB/s eta 0:00:01\r\u001b[K     |████▍                           | 30kB 3.5MB/s eta 0:00:01\r\u001b[K     |█████▉                          | 40kB 3.9MB/s eta 0:00:01\r\u001b[K     |███████▍                        | 51kB 3.8MB/s eta 0:00:01\r\u001b[K     |████████▉                       | 61kB 4.0MB/s eta 0:00:01\r\u001b[K     |██████████▎                     | 71kB 4.4MB/s eta 0:00:01\r\u001b[K     |███████████▊                    | 81kB 4.5MB/s eta 0:00:01\r\u001b[K     |█████████████▏                  | 92kB 4.8MB/s eta 0:00:01\r\u001b[K     |██████████████▊                 | 102kB 4.9MB/s eta 0:00:01\r\u001b[K     |████████████████▏               | 112kB 4.9MB/s eta 0:00:01\r\u001b[K     |█████████████████▋              | 122kB 4.9MB/s eta 0:00:01\r\u001b[K     |███████████████████             | 133kB 4.9MB/s eta 0:00:01\r\u001b[K     |████████████████████▌           | 143kB 4.9MB/s eta 0:00:01\r\u001b[K     |██████████████████████          | 153kB 4.9MB/s eta 0:00:01\r\u001b[K     |███████████████████████▌        | 163kB 4.9MB/s eta 0:00:01\r\u001b[K     |█████████████████████████       | 174kB 4.9MB/s eta 0:00:01\r\u001b[K     |██████████████████████████▍     | 184kB 4.9MB/s eta 0:00:01\r\u001b[K     |████████████████████████████    | 194kB 4.9MB/s eta 0:00:01\r\u001b[K     |█████████████████████████████▍  | 204kB 4.9MB/s eta 0:00:01\r\u001b[K     |██████████████████████████████▉ | 215kB 4.9MB/s eta 0:00:01\r\u001b[K     |████████████████████████████████| 225kB 4.9MB/s \n",
            "\u001b[?25hRequirement already satisfied: numpy>=1.15 in /usr/local/lib/python3.6/dist-packages (from pingouin) (1.18.5)\n",
            "Requirement already satisfied: scipy>=1.3 in /usr/local/lib/python3.6/dist-packages (from pingouin) (1.4.1)\n",
            "Requirement already satisfied: pandas>=0.24 in /usr/local/lib/python3.6/dist-packages (from pingouin) (1.1.2)\n",
            "Requirement already satisfied: matplotlib>=3.0.2 in /usr/local/lib/python3.6/dist-packages (from pingouin) (3.2.2)\n",
            "Requirement already satisfied: seaborn>=0.9.0 in /usr/local/lib/python3.6/dist-packages (from pingouin) (0.11.0)\n",
            "Requirement already satisfied: statsmodels>=0.10.0 in /usr/local/lib/python3.6/dist-packages (from pingouin) (0.10.2)\n",
            "Requirement already satisfied: scikit-learn in /usr/local/lib/python3.6/dist-packages (from pingouin) (0.22.2.post1)\n",
            "Collecting pandas_flavor>=0.1.2\n",
            "  Downloading https://files.pythonhosted.org/packages/9a/57/7fbcff4c0961ed190ac5fcb0bd8194152ee1ee6487edf64fdbae16e2bc4b/pandas_flavor-0.2.0-py2.py3-none-any.whl\n",
            "Collecting outdated\n",
            "  Downloading https://files.pythonhosted.org/packages/86/70/2f166266438a30e94140f00c99c0eac1c45807981052a1d4c123660e1323/outdated-0.2.0.tar.gz\n",
            "Requirement already satisfied: tabulate in /usr/local/lib/python3.6/dist-packages (from pingouin) (0.8.7)\n",
            "Requirement already satisfied: python-dateutil>=2.7.3 in /usr/local/lib/python3.6/dist-packages (from pandas>=0.24->pingouin) (2.8.1)\n",
            "Requirement already satisfied: pytz>=2017.2 in /usr/local/lib/python3.6/dist-packages (from pandas>=0.24->pingouin) (2018.9)\n",
            "Requirement already satisfied: pyparsing!=2.0.4,!=2.1.2,!=2.1.6,>=2.0.1 in /usr/local/lib/python3.6/dist-packages (from matplotlib>=3.0.2->pingouin) (2.4.7)\n",
            "Requirement already satisfied: cycler>=0.10 in /usr/local/lib/python3.6/dist-packages (from matplotlib>=3.0.2->pingouin) (0.10.0)\n",
            "Requirement already satisfied: kiwisolver>=1.0.1 in /usr/local/lib/python3.6/dist-packages (from matplotlib>=3.0.2->pingouin) (1.2.0)\n",
            "Requirement already satisfied: patsy>=0.4.0 in /usr/local/lib/python3.6/dist-packages (from statsmodels>=0.10.0->pingouin) (0.5.1)\n",
            "Requirement already satisfied: joblib>=0.11 in /usr/local/lib/python3.6/dist-packages (from scikit-learn->pingouin) (0.16.0)\n",
            "Requirement already satisfied: xarray in /usr/local/lib/python3.6/dist-packages (from pandas_flavor>=0.1.2->pingouin) (0.15.1)\n",
            "Collecting littleutils\n",
            "  Downloading https://files.pythonhosted.org/packages/4e/b1/bb4e06f010947d67349f863b6a2ad71577f85590180a935f60543f622652/littleutils-0.2.2.tar.gz\n",
            "Requirement already satisfied: requests in /usr/local/lib/python3.6/dist-packages (from outdated->pingouin) (2.23.0)\n",
            "Requirement already satisfied: six>=1.5 in /usr/local/lib/python3.6/dist-packages (from python-dateutil>=2.7.3->pandas>=0.24->pingouin) (1.15.0)\n",
            "Requirement already satisfied: setuptools>=41.2 in /usr/local/lib/python3.6/dist-packages (from xarray->pandas_flavor>=0.1.2->pingouin) (50.3.0)\n",
            "Requirement already satisfied: certifi>=2017.4.17 in /usr/local/lib/python3.6/dist-packages (from requests->outdated->pingouin) (2020.6.20)\n",
            "Requirement already satisfied: urllib3!=1.25.0,!=1.25.1,<1.26,>=1.21.1 in /usr/local/lib/python3.6/dist-packages (from requests->outdated->pingouin) (1.24.3)\n",
            "Requirement already satisfied: idna<3,>=2.5 in /usr/local/lib/python3.6/dist-packages (from requests->outdated->pingouin) (2.10)\n",
            "Requirement already satisfied: chardet<4,>=3.0.2 in /usr/local/lib/python3.6/dist-packages (from requests->outdated->pingouin) (3.0.4)\n",
            "Building wheels for collected packages: pingouin, outdated, littleutils\n",
            "  Building wheel for pingouin (setup.py) ... \u001b[?25l\u001b[?25hdone\n",
            "  Created wheel for pingouin: filename=pingouin-0.3.8-cp36-none-any.whl size=221688 sha256=e657c2a15c9f0b69dd54313ac3fda55af0041f36fb808fed4488317ec29f683d\n",
            "  Stored in directory: /root/.cache/pip/wheels/d6/9e/53/f885f73f29cf7c8cac3d8f4b1532bbfef2f5eb543946ac9055\n",
            "  Building wheel for outdated (setup.py) ... \u001b[?25l\u001b[?25hdone\n",
            "  Created wheel for outdated: filename=outdated-0.2.0-cp36-none-any.whl size=4961 sha256=6925527b745b5ca71432b5af01292bded66cab935b18edf7b72aeed6ff5e602c\n",
            "  Stored in directory: /root/.cache/pip/wheels/fd/7c/ef/814f514d31197310872b5abf353feb8fef9d67ee658e1e7e39\n",
            "  Building wheel for littleutils (setup.py) ... \u001b[?25l\u001b[?25hdone\n",
            "  Created wheel for littleutils: filename=littleutils-0.2.2-cp36-none-any.whl size=7051 sha256=9c2535b2246990694ed653c4860191d04545a4dabfbf288e44270126e75a49e9\n",
            "  Stored in directory: /root/.cache/pip/wheels/53/16/9f/ac67d15c40243754fd73f620e1b9b6dedc20492ecc19a2bae1\n",
            "Successfully built pingouin outdated littleutils\n",
            "Installing collected packages: pandas-flavor, littleutils, outdated, pingouin\n",
            "Successfully installed littleutils-0.2.2 outdated-0.2.0 pandas-flavor-0.2.0 pingouin-0.3.8\n"
          ],
          "name": "stdout"
        }
      ]
    },
    {
      "cell_type": "code",
      "metadata": {
        "id": "ES4vb8-6Ws_e"
      },
      "source": [
        "from pingouin import ancova"
      ],
      "execution_count": 11,
      "outputs": []
    },
    {
      "cell_type": "markdown",
      "metadata": {
        "id": "tF4fdQIWW_Mm"
      },
      "source": [
        "# F = (ss_bw/ df_bw ) / (ss_within/ df_within)"
      ]
    },
    {
      "cell_type": "code",
      "metadata": {
        "id": "3KXUVlTmWwjE",
        "outputId": "906fbbff-aa70-4d35-bbcd-f64fcd6e53b1",
        "colab": {
          "base_uri": "https://localhost:8080/",
          "height": 34
        }
      },
      "source": [
        "# compute overall mean(Xbar G)\n",
        "overall_mean = data['score'].mean()\n",
        "print('overall_mean=',overall_mean) # XrG"
      ],
      "execution_count": 12,
      "outputs": [
        {
          "output_type": "stream",
          "text": [
            "overall_mean= 6.055555555555555\n"
          ],
          "name": "stdout"
        }
      ]
    },
    {
      "cell_type": "code",
      "metadata": {
        "id": "NCQcuOpXXD1B",
        "outputId": "ba71a90b-a627-4951-cf95-e27ee98c4af1",
        "colab": {
          "base_uri": "https://localhost:8080/",
          "height": 34
        }
      },
      "source": [
        "# compute Sum of Squares Total (ss_between )\n",
        "data['overall_mean'] = overall_mean\n",
        "ss_total = sum((data['score'] - data['overall_mean'])**2)\n",
        "print('ss_total(btwn)=',ss_total) #ss_between"
      ],
      "execution_count": 13,
      "outputs": [
        {
          "output_type": "stream",
          "text": [
            "ss_total(btwn)= 124.94444444444446\n"
          ],
          "name": "stdout"
        }
      ]
    },
    {
      "cell_type": "code",
      "metadata": {
        "id": "jfUrK2apXJAC",
        "outputId": "aba43415-d3d4-4ec5-c0d0-35dd4641dad8",
        "colab": {
          "base_uri": "https://localhost:8080/",
          "height": 166
        }
      },
      "source": [
        "# compute group means\n",
        "group_means = data.groupby('names').mean()\n",
        "group_means = group_means.rename(columns = {'score': 'group_mean'})\n",
        "group_means # Xbar 1 , Xbar 2 , Xbar 3"
      ],
      "execution_count": 14,
      "outputs": [
        {
          "output_type": "execute_result",
          "data": {
            "text/html": [
              "<div>\n",
              "<style scoped>\n",
              "    .dataframe tbody tr th:only-of-type {\n",
              "        vertical-align: middle;\n",
              "    }\n",
              "\n",
              "    .dataframe tbody tr th {\n",
              "        vertical-align: top;\n",
              "    }\n",
              "\n",
              "    .dataframe thead th {\n",
              "        text-align: right;\n",
              "    }\n",
              "</style>\n",
              "<table border=\"1\" class=\"dataframe\">\n",
              "  <thead>\n",
              "    <tr style=\"text-align: right;\">\n",
              "      <th></th>\n",
              "      <th>group_mean</th>\n",
              "      <th>overall_mean</th>\n",
              "    </tr>\n",
              "    <tr>\n",
              "      <th>names</th>\n",
              "      <th></th>\n",
              "      <th></th>\n",
              "    </tr>\n",
              "  </thead>\n",
              "  <tbody>\n",
              "    <tr>\n",
              "      <th>Alex</th>\n",
              "      <td>8.333333</td>\n",
              "      <td>6.055556</td>\n",
              "    </tr>\n",
              "    <tr>\n",
              "      <th>Jack</th>\n",
              "      <td>5.000000</td>\n",
              "      <td>6.055556</td>\n",
              "    </tr>\n",
              "    <tr>\n",
              "      <th>Pat</th>\n",
              "      <td>4.833333</td>\n",
              "      <td>6.055556</td>\n",
              "    </tr>\n",
              "  </tbody>\n",
              "</table>\n",
              "</div>"
            ],
            "text/plain": [
              "       group_mean  overall_mean\n",
              "names                          \n",
              "Alex     8.333333      6.055556\n",
              "Jack     5.000000      6.055556\n",
              "Pat      4.833333      6.055556"
            ]
          },
          "metadata": {
            "tags": []
          },
          "execution_count": 14
        }
      ]
    },
    {
      "cell_type": "code",
      "metadata": {
        "id": "dpniu672XM8L",
        "outputId": "f0a2ca26-5deb-45bc-d71b-d87a0688b7b4",
        "colab": {
          "base_uri": "https://localhost:8080/",
          "height": 580
        }
      },
      "source": [
        "# add group means and overall mean to the original data frame\n",
        "data = data.merge(group_means, left_on = 'names', right_index = True)\n",
        "data"
      ],
      "execution_count": 15,
      "outputs": [
        {
          "output_type": "execute_result",
          "data": {
            "text/html": [
              "<div>\n",
              "<style scoped>\n",
              "    .dataframe tbody tr th:only-of-type {\n",
              "        vertical-align: middle;\n",
              "    }\n",
              "\n",
              "    .dataframe tbody tr th {\n",
              "        vertical-align: top;\n",
              "    }\n",
              "\n",
              "    .dataframe thead th {\n",
              "        text-align: right;\n",
              "    }\n",
              "</style>\n",
              "<table border=\"1\" class=\"dataframe\">\n",
              "  <thead>\n",
              "    <tr style=\"text-align: right;\">\n",
              "      <th></th>\n",
              "      <th>names</th>\n",
              "      <th>score</th>\n",
              "      <th>overall_mean_x</th>\n",
              "      <th>group_mean</th>\n",
              "      <th>overall_mean_y</th>\n",
              "    </tr>\n",
              "  </thead>\n",
              "  <tbody>\n",
              "    <tr>\n",
              "      <th>0</th>\n",
              "      <td>Pat</td>\n",
              "      <td>5</td>\n",
              "      <td>6.055556</td>\n",
              "      <td>4.833333</td>\n",
              "      <td>6.055556</td>\n",
              "    </tr>\n",
              "    <tr>\n",
              "      <th>1</th>\n",
              "      <td>Pat</td>\n",
              "      <td>4</td>\n",
              "      <td>6.055556</td>\n",
              "      <td>4.833333</td>\n",
              "      <td>6.055556</td>\n",
              "    </tr>\n",
              "    <tr>\n",
              "      <th>2</th>\n",
              "      <td>Pat</td>\n",
              "      <td>4</td>\n",
              "      <td>6.055556</td>\n",
              "      <td>4.833333</td>\n",
              "      <td>6.055556</td>\n",
              "    </tr>\n",
              "    <tr>\n",
              "      <th>3</th>\n",
              "      <td>Pat</td>\n",
              "      <td>3</td>\n",
              "      <td>6.055556</td>\n",
              "      <td>4.833333</td>\n",
              "      <td>6.055556</td>\n",
              "    </tr>\n",
              "    <tr>\n",
              "      <th>4</th>\n",
              "      <td>Pat</td>\n",
              "      <td>9</td>\n",
              "      <td>6.055556</td>\n",
              "      <td>4.833333</td>\n",
              "      <td>6.055556</td>\n",
              "    </tr>\n",
              "    <tr>\n",
              "      <th>5</th>\n",
              "      <td>Pat</td>\n",
              "      <td>4</td>\n",
              "      <td>6.055556</td>\n",
              "      <td>4.833333</td>\n",
              "      <td>6.055556</td>\n",
              "    </tr>\n",
              "    <tr>\n",
              "      <th>6</th>\n",
              "      <td>Jack</td>\n",
              "      <td>4</td>\n",
              "      <td>6.055556</td>\n",
              "      <td>5.000000</td>\n",
              "      <td>6.055556</td>\n",
              "    </tr>\n",
              "    <tr>\n",
              "      <th>7</th>\n",
              "      <td>Jack</td>\n",
              "      <td>8</td>\n",
              "      <td>6.055556</td>\n",
              "      <td>5.000000</td>\n",
              "      <td>6.055556</td>\n",
              "    </tr>\n",
              "    <tr>\n",
              "      <th>8</th>\n",
              "      <td>Jack</td>\n",
              "      <td>7</td>\n",
              "      <td>6.055556</td>\n",
              "      <td>5.000000</td>\n",
              "      <td>6.055556</td>\n",
              "    </tr>\n",
              "    <tr>\n",
              "      <th>9</th>\n",
              "      <td>Jack</td>\n",
              "      <td>5</td>\n",
              "      <td>6.055556</td>\n",
              "      <td>5.000000</td>\n",
              "      <td>6.055556</td>\n",
              "    </tr>\n",
              "    <tr>\n",
              "      <th>10</th>\n",
              "      <td>Jack</td>\n",
              "      <td>1</td>\n",
              "      <td>6.055556</td>\n",
              "      <td>5.000000</td>\n",
              "      <td>6.055556</td>\n",
              "    </tr>\n",
              "    <tr>\n",
              "      <th>11</th>\n",
              "      <td>Jack</td>\n",
              "      <td>5</td>\n",
              "      <td>6.055556</td>\n",
              "      <td>5.000000</td>\n",
              "      <td>6.055556</td>\n",
              "    </tr>\n",
              "    <tr>\n",
              "      <th>12</th>\n",
              "      <td>Alex</td>\n",
              "      <td>9</td>\n",
              "      <td>6.055556</td>\n",
              "      <td>8.333333</td>\n",
              "      <td>6.055556</td>\n",
              "    </tr>\n",
              "    <tr>\n",
              "      <th>13</th>\n",
              "      <td>Alex</td>\n",
              "      <td>9</td>\n",
              "      <td>6.055556</td>\n",
              "      <td>8.333333</td>\n",
              "      <td>6.055556</td>\n",
              "    </tr>\n",
              "    <tr>\n",
              "      <th>14</th>\n",
              "      <td>Alex</td>\n",
              "      <td>8</td>\n",
              "      <td>6.055556</td>\n",
              "      <td>8.333333</td>\n",
              "      <td>6.055556</td>\n",
              "    </tr>\n",
              "    <tr>\n",
              "      <th>15</th>\n",
              "      <td>Alex</td>\n",
              "      <td>10</td>\n",
              "      <td>6.055556</td>\n",
              "      <td>8.333333</td>\n",
              "      <td>6.055556</td>\n",
              "    </tr>\n",
              "    <tr>\n",
              "      <th>16</th>\n",
              "      <td>Alex</td>\n",
              "      <td>4</td>\n",
              "      <td>6.055556</td>\n",
              "      <td>8.333333</td>\n",
              "      <td>6.055556</td>\n",
              "    </tr>\n",
              "    <tr>\n",
              "      <th>17</th>\n",
              "      <td>Alex</td>\n",
              "      <td>10</td>\n",
              "      <td>6.055556</td>\n",
              "      <td>8.333333</td>\n",
              "      <td>6.055556</td>\n",
              "    </tr>\n",
              "  </tbody>\n",
              "</table>\n",
              "</div>"
            ],
            "text/plain": [
              "   names  score  overall_mean_x  group_mean  overall_mean_y\n",
              "0    Pat      5        6.055556    4.833333        6.055556\n",
              "1    Pat      4        6.055556    4.833333        6.055556\n",
              "2    Pat      4        6.055556    4.833333        6.055556\n",
              "3    Pat      3        6.055556    4.833333        6.055556\n",
              "4    Pat      9        6.055556    4.833333        6.055556\n",
              "5    Pat      4        6.055556    4.833333        6.055556\n",
              "6   Jack      4        6.055556    5.000000        6.055556\n",
              "7   Jack      8        6.055556    5.000000        6.055556\n",
              "8   Jack      7        6.055556    5.000000        6.055556\n",
              "9   Jack      5        6.055556    5.000000        6.055556\n",
              "10  Jack      1        6.055556    5.000000        6.055556\n",
              "11  Jack      5        6.055556    5.000000        6.055556\n",
              "12  Alex      9        6.055556    8.333333        6.055556\n",
              "13  Alex      9        6.055556    8.333333        6.055556\n",
              "14  Alex      8        6.055556    8.333333        6.055556\n",
              "15  Alex     10        6.055556    8.333333        6.055556\n",
              "16  Alex      4        6.055556    8.333333        6.055556\n",
              "17  Alex     10        6.055556    8.333333        6.055556"
            ]
          },
          "metadata": {
            "tags": []
          },
          "execution_count": 15
        }
      ]
    },
    {
      "cell_type": "code",
      "metadata": {
        "id": "lu-Zo23MXQew",
        "outputId": "8565f453-26b8-4a67-ae75-d5ecd00ccbd2",
        "colab": {
          "base_uri": "https://localhost:8080/",
          "height": 34
        }
      },
      "source": [
        "# compute Sum of Squares Residual\n",
        "ss_residual = sum((data['score'] - data['group_mean'])**2)\n",
        "print('ss_residual (within)=',ss_residual) # ss_within where Xi1 is score here"
      ],
      "execution_count": 16,
      "outputs": [
        {
          "output_type": "stream",
          "text": [
            "ss_residual (within)= 78.16666666666666\n"
          ],
          "name": "stdout"
        }
      ]
    },
    {
      "cell_type": "code",
      "metadata": {
        "id": "aOctaAIqXUGY",
        "outputId": "ee563c85-ca8a-4abf-a9b6-745d3d9a7187",
        "colab": {
          "base_uri": "https://localhost:8080/",
          "height": 34
        }
      },
      "source": [
        "# compute Sum of Squares Model\n",
        "ss_explained = sum((data['group_mean'] - data['overall_mean_x'])**2)\n",
        "print('ss_explained(between)=',ss_explained) # ss_between where overall mean is XbarG and group mean is Xbar1(mean of Pat),...Xbar3(mean of Alex)"
      ],
      "execution_count": 17,
      "outputs": [
        {
          "output_type": "stream",
          "text": [
            "ss_explained(between)= 46.77777777777779\n"
          ],
          "name": "stdout"
        }
      ]
    },
    {
      "cell_type": "markdown",
      "metadata": {
        "id": "-ddIbzYyXa9l"
      },
      "source": [
        "# Ms (Within)"
      ]
    },
    {
      "cell_type": "code",
      "metadata": {
        "id": "Zb64UoDyXXAf",
        "outputId": "d0c37dae-8579-43a6-bdb2-2c4818e3e608",
        "colab": {
          "base_uri": "https://localhost:8080/",
          "height": 34
        }
      },
      "source": [
        "# compute Mean Square Residual\n",
        "n_groups = len(set(data['names'])) # K\n",
        "n_obs = data.shape[0] # N \n",
        "df_residual = n_obs - n_groups # df_within\n",
        "ms_residual = ss_residual / df_residual # MS_within = ss_within / df_within\n",
        "print('ms_residual(within)=',ms_residual)"
      ],
      "execution_count": 18,
      "outputs": [
        {
          "output_type": "stream",
          "text": [
            "ms_residual(within)= 5.21111111111111\n"
          ],
          "name": "stdout"
        }
      ]
    },
    {
      "cell_type": "markdown",
      "metadata": {
        "id": "s_JL8AF9XjSd"
      },
      "source": [
        "# Ms(between)"
      ]
    },
    {
      "cell_type": "code",
      "metadata": {
        "id": "m7nv1t7zXfiY",
        "outputId": "6b013291-86bf-433a-d24e-bc413f0b72b0",
        "colab": {
          "base_uri": "https://localhost:8080/",
          "height": 34
        }
      },
      "source": [
        "#compute Mean Square Explained\n",
        "df_explained = n_groups - 1 # df_bw\n",
        "ms_explained = ss_explained / df_explained # MS_bw = ss_bw / df_bw\n",
        "print('ms_explained(between)=',ms_explained)"
      ],
      "execution_count": 19,
      "outputs": [
        {
          "output_type": "stream",
          "text": [
            "ms_explained(between)= 23.388888888888896\n"
          ],
          "name": "stdout"
        }
      ]
    },
    {
      "cell_type": "code",
      "metadata": {
        "id": "6jrqUb3dXn31",
        "outputId": "3f78d44b-cc0b-4cf2-c83a-1167b02f809b",
        "colab": {
          "base_uri": "https://localhost:8080/",
          "height": 34
        }
      },
      "source": [
        "# compute F-Value\n",
        "f = ms_explained / ms_residual  # F = MS_bw / MS_within  or  F = (ss_bw/ df_bw ) / (ss_within/ df_within)\n",
        "f"
      ],
      "execution_count": 20,
      "outputs": [
        {
          "output_type": "execute_result",
          "data": {
            "text/plain": [
              "4.488272921108744"
            ]
          },
          "metadata": {
            "tags": []
          },
          "execution_count": 20
        }
      ]
    },
    {
      "cell_type": "markdown",
      "metadata": {
        "id": "Y0ZB72_ZX3K3"
      },
      "source": [
        "# Above we have calculated f value manually using annova test"
      ]
    },
    {
      "cell_type": "code",
      "metadata": {
        "id": "NmZNekFiXw9v",
        "outputId": "cf39abf4-a52e-4478-f7de-7a2508d24f9a",
        "colab": {
          "base_uri": "https://localhost:8080/",
          "height": 34
        }
      },
      "source": [
        "# compute p-value\n",
        "import scipy.stats\n",
        "p_value = 1 - scipy.stats.f.cdf(f, df_explained, df_residual)\n",
        "p_value"
      ],
      "execution_count": 21,
      "outputs": [
        {
          "output_type": "execute_result",
          "data": {
            "text/plain": [
              "0.029667763955533277"
            ]
          },
          "metadata": {
            "tags": []
          },
          "execution_count": 21
        }
      ]
    },
    {
      "cell_type": "code",
      "metadata": {
        "id": "CmkmsshHX92t"
      },
      "source": [
        "critical_value=scipy.stats.f.ppf(1-0.05,df_explained,df_residual)"
      ],
      "execution_count": 22,
      "outputs": []
    },
    {
      "cell_type": "code",
      "metadata": {
        "id": "2Tb6uJI0YCMN",
        "outputId": "73131f44-e457-40ce-edbf-4000506a515f",
        "colab": {
          "base_uri": "https://localhost:8080/",
          "height": 34
        }
      },
      "source": [
        "critical_value"
      ],
      "execution_count": 23,
      "outputs": [
        {
          "output_type": "execute_result",
          "data": {
            "text/plain": [
              "3.6823203436732412"
            ]
          },
          "metadata": {
            "tags": []
          },
          "execution_count": 23
        }
      ]
    },
    {
      "cell_type": "markdown",
      "metadata": {
        "id": "dvibheQXYJfQ"
      },
      "source": [
        "#Our critical_value = 3.68 is less than Fstat =4.48 &\n",
        "# p_value =0.02 is less than 0.05 so we reject the Null Hypothesis."
      ]
    },
    {
      "cell_type": "code",
      "metadata": {
        "id": "p6PwrfGiYEyU"
      },
      "source": [
        "import seaborn as sns \n",
        "import matplotlib.pyplot as plt"
      ],
      "execution_count": 24,
      "outputs": []
    },
    {
      "cell_type": "code",
      "metadata": {
        "id": "KFcftfDmYQg4",
        "outputId": "e5227f3c-fc0a-4572-92e4-94baee9bd041",
        "colab": {
          "base_uri": "https://localhost:8080/",
          "height": 405
        }
      },
      "source": [
        "plt.figure(figsize=(12,6))\n",
        "print(sns.barplot(x='names',y='score',data=data))"
      ],
      "execution_count": 25,
      "outputs": [
        {
          "output_type": "stream",
          "text": [
            "AxesSubplot(0.125,0.125;0.775x0.755)\n"
          ],
          "name": "stdout"
        },
        {
          "output_type": "display_data",
          "data": {
            "image/png": "[encoded data removed]",
            "text/plain": [
              "<Figure size 864x432 with 1 Axes>"
            ]
          },
          "metadata": {
            "tags": [],
            "needs_background": "light"
          }
        }
      ]
    },
    {
      "cell_type": "markdown",
      "metadata": {
        "id": "zTvaoWSjYXrE"
      },
      "source": [
        "# **By observing the above graph we can say that Alex is the best player because his average or mean score is greater than the other two players.**"
      ]
    }
  ]
}