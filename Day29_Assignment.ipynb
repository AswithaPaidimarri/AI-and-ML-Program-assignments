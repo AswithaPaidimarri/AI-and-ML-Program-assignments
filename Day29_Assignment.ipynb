{
  "nbformat": 4,
  "nbformat_minor": 0,
  "metadata": {
    "colab": {
      "name": "Day29 Assignment.ipynb",
      "provenance": [],
      "collapsed_sections": []
    },
    "kernelspec": {
      "name": "python3",
      "display_name": "Python 3"
    }
  },
  "cells": [
    {
      "cell_type": "markdown",
      "metadata": {
        "id": "4Y1QEhDBpVM8"
      },
      "source": [
        "# **AI and ML Program by letsUpgrade**\n",
        "# **DAY 29 ASSIGNMENT**\n",
        "# **SUBMITTED BY**\n",
        "# **NAME:-PAIDIMARRI VENKATA SAI ASWITHA**"
      ]
    },
    {
      "cell_type": "markdown",
      "metadata": {
        "id": "-Zs_fWrf2Bt4"
      },
      "source": [
        "# **Question1**\n",
        "# **Try to create the backpropagation and feedforward in python by creating function.**"
      ]
    },
    {
      "cell_type": "code",
      "metadata": {
        "id": "2QQGd4972-LM",
        "outputId": "55543da1-d12f-4034-fcf1-626be7568828",
        "colab": {
          "base_uri": "https://localhost:8080/",
          "height": 52
        }
      },
      "source": [
        "from random import random\n",
        "def intialize_network(n_inputs,n_hidden,n_outputs):\n",
        "  network=list()\n",
        "  hidden_layer=[{'weights':[random() for i in range(n_inputs+1)]} for i in range(n_hidden)]\n",
        "  network.append(hidden_layer)\n",
        "  output_layer=[{'weights':[random() for i in range(n_inputs+1)]} for i in range(n_hidden)]\n",
        "  network.append(output_layer)\n",
        "  return network\n",
        "  seed(1)\n",
        "  network=intialize_network(2,1,2)\n",
        "for layer in network:\n",
        "  print(layer)\n"
      ],
      "execution_count": 12,
      "outputs": [
        {
          "output_type": "stream",
          "text": [
            "[{'weights': [0.13436424411240122, 0.8474337369372327, 0.763774618976614], 'output': 0.7105668883115941}]\n",
            "[{'weights': [0.2550690257394217, 0.49543508709194095]}, {'weights': [0.4494910647887381, 0.651592972722763]}]\n"
          ],
          "name": "stdout"
        }
      ]
    },
    {
      "cell_type": "markdown",
      "metadata": {
        "id": "xzr1W72b1zGP"
      },
      "source": [
        "# Forward Propagate"
      ]
    },
    {
      "cell_type": "code",
      "metadata": {
        "id": "SgukMvW24sxW"
      },
      "source": [
        "# Calculate neuron activation for an input\n",
        "def activate(weights, inputs):\n",
        "    activation = weights[-1]\n",
        "    for i in range(len(weights)-1):\n",
        "        activation += weights[i] * inputs[i]\n",
        "    return activation"
      ],
      "execution_count": 6,
      "outputs": []
    },
    {
      "cell_type": "code",
      "metadata": {
        "id": "V4q6fImt1zGj"
      },
      "source": [
        "# Transfer neuron activation\n",
        "def transfer(activation):\n",
        "     return 1.0 / (1.0 + exp(-activation))"
      ],
      "execution_count": 7,
      "outputs": []
    },
    {
      "cell_type": "code",
      "metadata": {
        "id": "mLdhbEi81zGv"
      },
      "source": [
        "# Forward propagate input to a network output\n",
        "def forward_propagate(network, row):\n",
        "    inputs = row\n",
        "    for layer in network:new_inputs = []\n",
        "    for neuron in layer:\n",
        "        activation = activate(neuron['weights'], inputs)\n",
        "        neuron['output'] = transfer(activation)\n",
        "        new_inputs.append(neuron['output'])\n",
        "        inputs = new_inputs\n",
        "        return inputs"
      ],
      "execution_count": 8,
      "outputs": []
    },
    {
      "cell_type": "code",
      "metadata": {
        "id": "41V69PHt1zG-",
        "outputId": "b2af133f-8744-44cf-af8c-86db6c937724",
        "colab": {
          "base_uri": "https://localhost:8080/",
          "height": 35
        }
      },
      "source": [
        "from math import exp\n",
        " \n",
        "# Calculate neuron activation for an input\n",
        "def activate(weights, inputs):\n",
        "    activation = weights[-1]\n",
        "    for i in range(len(weights)-1):\n",
        "        activation += weights[i] * inputs[i]\n",
        "    return activation\n",
        " \n",
        "# Transfer neuron activation\n",
        "def transfer(activation):\n",
        "    return 1.0 / (1.0 + exp(-activation))\n",
        " \n",
        "# Forward propagate input to a network output\n",
        "def forward_propagate(network, row):\n",
        "    inputs = row\n",
        "    for layer in network:\n",
        "        new_inputs = []\n",
        "        for neuron in layer:\n",
        "            activation = activate(neuron['weights'], inputs)\n",
        "            neuron['output'] = transfer(activation)\n",
        "            new_inputs.append(neuron['output'])\n",
        "            inputs = new_inputs\n",
        "        return inputs\n",
        " \n",
        "# test forward propagation\n",
        "network = [[{'weights': [0.13436424411240122, 0.8474337369372327, 0.763774618976614]}],\n",
        "[{'weights': [0.2550690257394217, 0.49543508709194095]}, {'weights': [0.4494910647887381, 0.651592972722763]}]]\n",
        "row = [1, 0, None]\n",
        "output = forward_propagate(network, row)\n",
        "print(output)"
      ],
      "execution_count": 11,
      "outputs": [
        {
          "output_type": "stream",
          "text": [
            "[0.7105668883115941]\n"
          ],
          "name": "stdout"
        }
      ]
    }
  ]
}