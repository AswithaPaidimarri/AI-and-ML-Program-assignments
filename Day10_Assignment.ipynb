{
  "nbformat": 4,
  "nbformat_minor": 0,
  "metadata": {
    "colab": {
      "name": "Day10_Assignment.ipynb",
      "provenance": [],
      "collapsed_sections": []
    },
    "kernelspec": {
      "name": "python3",
      "display_name": "Python 3"
    }
  },
  "cells": [
    {
      "cell_type": "markdown",
      "metadata": {
        "id": "lxGSJTkmMjQr",
        "colab_type": "text"
      },
      "source": [
        "# **AI and ML Program by letsUpgrade**\n",
        "# **DAY10 ASSIGNMENT**\n",
        "# **SUBMITTED BY**\n",
        "# **NAME:-PAIDIMARRI VENKATA SAI ASWITHA**"
      ]
    },
    {
      "cell_type": "markdown",
      "metadata": {
        "id": "fHCzjU8aM4_i",
        "colab_type": "text"
      },
      "source": [
        "# **Question1**\n",
        "# Create an element-wise comparison (greater, greater_equal, less and less_equal) of two given arrays"
      ]
    },
    {
      "cell_type": "code",
      "metadata": {
        "id": "e-UVxeZoMRW7",
        "colab_type": "code",
        "colab": {
          "base_uri": "https://localhost:8080/",
          "height": 151
        },
        "outputId": "648fafe6-990c-4e2c-a0cc-22a7ef632910"
      },
      "source": [
        "import numpy as np\n",
        "a=np.array([2,3,4,5])\n",
        "b=np.array([6,2,4,1])\n",
        "print(\"Comparison - greater\")\n",
        "print(np.greater(a,b))\n",
        "print(\"Comparison - greater_equal\")\n",
        "print(np.greater_equal(a,b))\n",
        "print(\"Comparison - less\")\n",
        "print(np.less(a,b))\n",
        "print(\"Comparison - less_equal\")\n",
        "print(np.less_equal(a,b))"
      ],
      "execution_count": 2,
      "outputs": [
        {
          "output_type": "stream",
          "text": [
            "Comparison - greater\n",
            "[False  True False  True]\n",
            "Comparison - greater_equal\n",
            "[False  True  True  True]\n",
            "Comparison - less\n",
            "[ True False False False]\n",
            "Comparison - less_equal\n",
            "[ True False  True False]\n"
          ],
          "name": "stdout"
        }
      ]
    },
    {
      "cell_type": "markdown",
      "metadata": {
        "id": "knJQewIfO0MI",
        "colab_type": "text"
      },
      "source": [
        "# **Question2**\n",
        "# Write a NumPy program to create an array of 10 zeros,10 ones, 10 fives"
      ]
    },
    {
      "cell_type": "code",
      "metadata": {
        "id": "OfRATqcyPjEd",
        "colab_type": "code",
        "colab": {
          "base_uri": "https://localhost:8080/",
          "height": 67
        },
        "outputId": "accc5fc9-7b9e-4423-951e-fd60b197e5cd"
      },
      "source": [
        "import numpy as np\n",
        "a=np.zeros(10)\n",
        "b=np.ones(10)\n",
        "c=np.ones(10)*5\n",
        "print(\"array of 10 zeros:\",a)\n",
        "print(\"array of 10 ones:\",b)\n",
        "print(\"array of 10 zeros:\",c)"
      ],
      "execution_count": 7,
      "outputs": [
        {
          "output_type": "stream",
          "text": [
            "array of 10 zeros: [0. 0. 0. 0. 0. 0. 0. 0. 0. 0.]\n",
            "array of 10 ones: [1. 1. 1. 1. 1. 1. 1. 1. 1. 1.]\n",
            "array of 10 zeros: [5. 5. 5. 5. 5. 5. 5. 5. 5. 5.]\n"
          ],
          "name": "stdout"
        }
      ]
    },
    {
      "cell_type": "markdown",
      "metadata": {
        "id": "WeCqXmwSSCyk",
        "colab_type": "text"
      },
      "source": [
        "# **Question3**\n",
        "Write a NumPy program to compute sum of all elements, sum of each column and sum of each row of a\n",
        "given array "
      ]
    },
    {
      "cell_type": "code",
      "metadata": {
        "id": "WPIH_IOPTXGY",
        "colab_type": "code",
        "colab": {
          "base_uri": "https://localhost:8080/",
          "height": 168
        },
        "outputId": "8023788a-5cab-4a6b-f9e7-bdd45b771cc3"
      },
      "source": [
        "import numpy as np\n",
        "a=np.array([[2,3,4,5],[1,2,4,7]])\n",
        "print(\"Original array:\")\n",
        "print(a)\n",
        "print(\"Sum of all elements:\")\n",
        "print(np.sum(a))\n",
        "print(\"Sum of each column:\")\n",
        "print(np.sum(a,axis=0))\n",
        "print(\"Sum of each row:\")\n",
        "print(np.sum(a,axis=1))"
      ],
      "execution_count": 16,
      "outputs": [
        {
          "output_type": "stream",
          "text": [
            "Original array:\n",
            "[[2 3 4 5]\n",
            " [1 2 4 7]]\n",
            "Sum of all elements:\n",
            "28\n",
            "Sum of each column:\n",
            "[ 3  5  8 12]\n",
            "Sum of each row:\n",
            "[14 14]\n"
          ],
          "name": "stdout"
        }
      ]
    },
    {
      "cell_type": "markdown",
      "metadata": {
        "id": "FmJs1oCsQhy5",
        "colab_type": "text"
      },
      "source": [
        "# **Question4**\n",
        "Write a NumPy program to add, subtract, multiply, divide arguments element-wise."
      ]
    },
    {
      "cell_type": "code",
      "metadata": {
        "id": "Qfh_WTA7QxH0",
        "colab_type": "code",
        "colab": {
          "base_uri": "https://localhost:8080/",
          "height": 151
        },
        "outputId": "1800ae0b-07e5-4e52-b3bf-a73bd370a110"
      },
      "source": [
        "import numpy as np\n",
        "print(\"Add:\")\n",
        "print(np.add(1, 4))\n",
        "print(\"Subtract:\")\n",
        "print(np.subtract(1, 4))\n",
        "print(\"Multiply:\")\n",
        "print(np.multiply(1, 4))\n",
        "print(\"Divide:\")\n",
        "print(np.divide(1, 4))\n"
      ],
      "execution_count": 11,
      "outputs": [
        {
          "output_type": "stream",
          "text": [
            "Add:\n",
            "5\n",
            "Subtract:\n",
            "-3\n",
            "Multiply:\n",
            "4\n",
            "Divide:\n",
            "0.25\n"
          ],
          "name": "stdout"
        }
      ]
    },
    {
      "cell_type": "markdown",
      "metadata": {
        "id": "dDNG2LdJR8VX",
        "colab_type": "text"
      },
      "source": [
        "# **Question5**\n",
        "Write a NumPy program to compute the trigonometric sine, cosine and tangent array of angles given in\n",
        "degree."
      ]
    },
    {
      "cell_type": "code",
      "metadata": {
        "id": "L-ZNAvd6VWkm",
        "colab_type": "code",
        "colab": {
          "base_uri": "https://localhost:8080/",
          "height": 151
        },
        "outputId": "8f884991-23ce-4396-f8ea-56ea8a9c9045"
      },
      "source": [
        "import numpy as np\n",
        "import numpy as np\n",
        "print(\"sine: array of angles given in degrees\")\n",
        "print(np.sin(np.array((0., 30., 45., 60., 90.)) * np.pi / 180.))\n",
        "print(\"cosine: array of angles given in degrees\")\n",
        "print(np.cos(np.array((0., 30., 45., 60., 90.)) * np.pi / 180.))\n",
        "print(\"tangent: array of angles given in degrees\")\n",
        "print(np.tan(np.array((0., 30., 45., 60., 90.)) * np.pi / 180.))"
      ],
      "execution_count": 17,
      "outputs": [
        {
          "output_type": "stream",
          "text": [
            "sine: array of angles given in degrees\n",
            "[0.         0.5        0.70710678 0.8660254  1.        ]\n",
            "cosine: array of angles given in degrees\n",
            "[1.00000000e+00 8.66025404e-01 7.07106781e-01 5.00000000e-01\n",
            " 6.12323400e-17]\n",
            "tangent: array of angles given in degrees\n",
            "[0.00000000e+00 5.77350269e-01 1.00000000e+00 1.73205081e+00\n",
            " 1.63312394e+16]\n"
          ],
          "name": "stdout"
        }
      ]
    },
    {
      "cell_type": "markdown",
      "metadata": {
        "id": "i6fu_kBPZPG8",
        "colab_type": "text"
      },
      "source": [
        "# Question6\n",
        "Write a Pandas program to create and display a DataFrame from a specified dictionary data which has the\n",
        "index labels"
      ]
    },
    {
      "cell_type": "code",
      "metadata": {
        "id": "ZeV5GXMUaV_C",
        "colab_type": "code",
        "colab": {
          "base_uri": "https://localhost:8080/",
          "height": 118
        },
        "outputId": "2d327d8f-9922-4828-f8b9-b5d51a4adc01"
      },
      "source": [
        "import pandas as pd\n",
        "import numpy as np\n",
        "data={\"Names\":[\"Aswitha\",\"Hasini\",\"Navya\",\"Vidya\",\"Chikki\"],\n",
        "      \"Id\":[100,230,123,234,270],\n",
        "      \"Company\":[\"Infosys\",\"wipro\",\"Tcs\",\"cognigent\",\"capgemini\"],\n",
        "      \"Salary in K\":[3.3,3.5,4.0,2.3,2.2]}\n",
        "labels=[1,2,3,4,5]\n",
        "df = pd.DataFrame(data,index=labels)\n",
        "print(df)"
      ],
      "execution_count": 38,
      "outputs": [
        {
          "output_type": "stream",
          "text": [
            "     Names   Id    Company  Salary in K\n",
            "1  Aswitha  100    Infosys          3.3\n",
            "2   Hasini  230      wipro          3.5\n",
            "3    Navya  123        Tcs          4.0\n",
            "4    Vidya  234  cognigent          2.3\n",
            "5   Chikki  270  capgemini          2.2\n"
          ],
          "name": "stdout"
        }
      ]
    }
  ]
}