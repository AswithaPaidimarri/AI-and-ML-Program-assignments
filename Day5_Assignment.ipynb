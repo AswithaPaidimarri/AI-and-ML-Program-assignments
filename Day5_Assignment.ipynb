{
  "nbformat": 4,
  "nbformat_minor": 0,
  "metadata": {
    "colab": {
      "name": "Day5_Assignment.ipynb",
      "provenance": [],
      "collapsed_sections": []
    },
    "kernelspec": {
      "name": "python3",
      "display_name": "Python 3"
    }
  },
  "cells": [
    {
      "cell_type": "markdown",
      "metadata": {
        "id": "BkMFNWlVcmfa",
        "colab_type": "text"
      },
      "source": [
        ""
      ]
    },
    {
      "cell_type": "markdown",
      "metadata": {
        "id": "M_3hmPwLwwvN",
        "colab_type": "text"
      },
      "source": [
        "# **AI and ML Program by letsUpgrade**\n",
        "# **DAY5 ASSIGNMENT**\n",
        "# **SUBMITTED BY**\n",
        "# **NAME:-PAIDIMARRI VENKATA SAI ASWITHA**"
      ]
    },
    {
      "cell_type": "markdown",
      "metadata": {
        "id": "RUMyMVZ5ctUq",
        "colab_type": "text"
      },
      "source": [
        "# **Question1**\n",
        "#Write a Python program to find the first 20 non-even prime natural numbers."
      ]
    },
    {
      "cell_type": "code",
      "metadata": {
        "id": "xJ68fv8xc3Qh",
        "colab_type": "code",
        "colab": {
          "base_uri": "https://localhost:8080/",
          "height": 33
        },
        "outputId": "68ebb0a9-d98b-471c-8de7-59373a4d5384"
      },
      "source": [
        "for i in range(1,42):\n",
        "  for j in range(2,i):\n",
        "    if i%j==0 and i%2==0:\n",
        "      break\n",
        "    else:\n",
        "      print(i,end=\" \")  \n",
        "      break\n",
        "      \n",
        "        "
      ],
      "execution_count": 18,
      "outputs": [
        {
          "output_type": "stream",
          "text": [
            "3 5 7 9 11 13 15 17 19 21 23 25 27 29 31 33 35 37 39 41 "
          ],
          "name": "stdout"
        }
      ]
    },
    {
      "cell_type": "markdown",
      "metadata": {
        "id": "sDjruiWFfSmX",
        "colab_type": "text"
      },
      "source": [
        "# **Question2**\n",
        "# **Write a Python program to implement 15 functions of string.**"
      ]
    },
    {
      "cell_type": "code",
      "metadata": {
        "id": "l7PPGB3VffAr",
        "colab_type": "code",
        "colab": {
          "base_uri": "https://localhost:8080/",
          "height": 268
        },
        "outputId": "671e740e-21f9-4f85-9e5f-8d6f92dc26da"
      },
      "source": [
        "string=\"Hello1@\"\n",
        "string1=\"WORLD\"\n",
        "print(string+string1)\n",
        "print(string*2)\n",
        "print(string.upper())\n",
        "print(string.lower())\n",
        "print(string.count('l'))\n",
        "print(string.islower())\n",
        "print(string1.isupper())\n",
        "print(string.isdecimal())\n",
        "print(string.find(\"Hell\"))\n",
        "print(len(string))\n",
        "print(\"Hello\"+\"world\")\n",
        "print(string.swapcase())\n",
        "print(string.isalnum())\n",
        "print(string.encode())\n",
        "print(string1.isupper())\n"
      ],
      "execution_count": 43,
      "outputs": [
        {
          "output_type": "stream",
          "text": [
            "Hello1@WORLD\n",
            "Hello1@Hello1@\n",
            "HELLO1@\n",
            "hello1@\n",
            "2\n",
            "False\n",
            "True\n",
            "False\n",
            "0\n",
            "7\n",
            "Helloworld\n",
            "hELLO1@\n",
            "False\n",
            "b'Hello1@'\n",
            "True\n"
          ],
          "name": "stdout"
        }
      ]
    },
    {
      "cell_type": "markdown",
      "metadata": {
        "id": "_R2HZEQEFxgn",
        "colab_type": "text"
      },
      "source": [
        "# **Question3**\n",
        "Write a Python program to check if the given string is a Palindrome or Anagram or None of them. Display\n",
        "the message accordingly to the user."
      ]
    },
    {
      "cell_type": "code",
      "metadata": {
        "id": "-pbeI2JRF-Qn",
        "colab_type": "code",
        "colab": {
          "base_uri": "https://localhost:8080/",
          "height": 67
        },
        "outputId": "32cde376-4bd4-45f3-af80-20d13afca8ac"
      },
      "source": [
        "s1=input('enter string:')\n",
        "s2=s1[::-1]\n",
        "s3=input('enter string for checking anagram:')\n",
        "if s1==s2:\n",
        "  print(\"palindrome\")\n",
        "if sorted(s1)==sorted(s3):\n",
        "  print(\"anagram\")\n",
        "else:\n",
        "  print(\"none\")    "
      ],
      "execution_count": 40,
      "outputs": [
        {
          "output_type": "stream",
          "text": [
            "enter string:care\n",
            "enter string for checking anagram:race\n",
            "anagram\n"
          ],
          "name": "stdout"
        }
      ]
    },
    {
      "cell_type": "markdown",
      "metadata": {
        "id": "uPaN88_KJrf1",
        "colab_type": "text"
      },
      "source": [
        "# **Question4**\n",
        "Write a Python's user-defined function that removes all the additional characters from the string and\n",
        "convert it finally to lower case using built-in lower(). eg: If the string is \"Dr. Darshan Ingle @AIML Trainer\",\n",
        "then the output be \"drdarshaningleaimltrainer\"."
      ]
    },
    {
      "cell_type": "code",
      "metadata": {
        "id": "fgr99nrtJ4TY",
        "colab_type": "code",
        "colab": {
          "base_uri": "https://localhost:8080/",
          "height": 33
        },
        "outputId": "9254292c-0f60-4d1f-8965-1372ec6f32b2"
      },
      "source": [
        "string=\"Dr. Darshan Ingle @AIML Trainer\"\n",
        "for i in string:\n",
        "  if ord(i)<=122 and ord(i)>=65:\n",
        "    print(i.lower(),end=\"\")\n",
        "  else:\n",
        "    print(i.replace(i,''),end=\"\")  \n"
      ],
      "execution_count": 71,
      "outputs": [
        {
          "output_type": "stream",
          "text": [
            "drdarshaningleaimltrainer"
          ],
          "name": "stdout"
        }
      ]
    },
    {
      "cell_type": "code",
      "metadata": {
        "id": "w0OG89TeSNb6",
        "colab_type": "code",
        "colab": {}
      },
      "source": [
        ""
      ],
      "execution_count": null,
      "outputs": []
    }
  ]
}