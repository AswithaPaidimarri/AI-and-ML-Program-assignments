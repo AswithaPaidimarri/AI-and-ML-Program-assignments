{
  "nbformat": 4,
  "nbformat_minor": 0,
  "metadata": {
    "colab": {
      "name": "Day8 Assignment.ipynb",
      "provenance": [],
      "collapsed_sections": []
    },
    "kernelspec": {
      "name": "python3",
      "display_name": "Python 3"
    }
  },
  "cells": [
    {
      "cell_type": "markdown",
      "metadata": {
        "id": "uD3uzOYKzDve",
        "colab_type": "text"
      },
      "source": [
        "# **AI and ML Program by letsUpgrade**\n",
        "# **DAY8 ASSIGNMENT**\n",
        "# **SUBMITTED BY**\n",
        "# **NAME:-PAIDIMARRI VENKATA SAI ASWITHA** "
      ]
    },
    {
      "cell_type": "markdown",
      "metadata": {
        "id": "7BIxGjEHzxNm",
        "colab_type": "text"
      },
      "source": [
        "# **Question1**\n",
        "Recreate “NB 21 map, filter, lambda.ipynb” to try different variations or perform different calculations from\n",
        "the ones that are in the NB"
      ]
    },
    {
      "cell_type": "markdown",
      "metadata": {
        "id": "q2f46hlg3DBs",
        "colab_type": "text"
      },
      "source": [
        "# Map()"
      ]
    },
    {
      "cell_type": "code",
      "metadata": {
        "id": "KjewZBuOzCyC",
        "colab_type": "code",
        "colab": {
          "base_uri": "https://localhost:8080/",
          "height": 67
        },
        "outputId": "78fa73a2-c7c6-490f-e4b5-af1575fcb370"
      },
      "source": [
        "# map(function, iterables)\n",
        "def add(a):\n",
        "    return a+a\n",
        "x = map(add,[1,2,3,4,5])\n",
        "print(x)\n",
        "print(type(x))\n",
        "print(list(x))\n"
      ],
      "execution_count": null,
      "outputs": [
        {
          "output_type": "stream",
          "text": [
            "<map object at 0x7f35bf0829b0>\n",
            "<class 'map'>\n",
            "[2, 4, 6, 8, 10]\n"
          ],
          "name": "stdout"
        }
      ]
    },
    {
      "cell_type": "code",
      "metadata": {
        "id": "7g4FPFQY5dWk",
        "colab_type": "code",
        "colab": {
          "base_uri": "https://localhost:8080/",
          "height": 34
        },
        "outputId": "73e287ee-618a-4762-c399-5492b9aa24c1"
      },
      "source": [
        "def add(a,b):\n",
        "    return a+b\n",
        "x = map(add, [1,2,3,4], [2,2,2,2] )\n",
        "print(list(x))"
      ],
      "execution_count": null,
      "outputs": [
        {
          "output_type": "stream",
          "text": [
            "[3, 4, 5, 6]\n"
          ],
          "name": "stdout"
        }
      ]
    },
    {
      "cell_type": "code",
      "metadata": {
        "id": "oetiijvA5wJH",
        "colab_type": "code",
        "colab": {
          "base_uri": "https://localhost:8080/",
          "height": 34
        },
        "outputId": "fe5f4c6d-d420-4719-e1c7-243017899986"
      },
      "source": [
        "def add(a,b):\n",
        "    return a+b\n",
        "print(list(map(add, [1,2,3,4],[1,2,3,4] )))"
      ],
      "execution_count": null,
      "outputs": [
        {
          "output_type": "stream",
          "text": [
            "[2, 4, 6, 8]\n"
          ],
          "name": "stdout"
        }
      ]
    },
    {
      "cell_type": "code",
      "metadata": {
        "id": "60112rz16LVY",
        "colab_type": "code",
        "colab": {
          "base_uri": "https://localhost:8080/",
          "height": 34
        },
        "outputId": "8208dee5-5944-45df-c7d7-33b42ba676b1"
      },
      "source": [
        "def add(a,b):\n",
        "    return a+b\n",
        "print(list(map(sqr, [ i for i in range(5)], [i for i in range(6)])))"
      ],
      "execution_count": null,
      "outputs": [
        {
          "output_type": "stream",
          "text": [
            "[0, 1, 4, 9, 16]\n"
          ],
          "name": "stdout"
        }
      ]
    },
    {
      "cell_type": "markdown",
      "metadata": {
        "id": "TJ73EcfK8Zj5",
        "colab_type": "text"
      },
      "source": [
        "# Lambda functions"
      ]
    },
    {
      "cell_type": "code",
      "metadata": {
        "id": "BaUXs03n9BPP",
        "colab_type": "code",
        "colab": {
          "base_uri": "https://localhost:8080/",
          "height": 34
        },
        "outputId": "c5b9f44b-e1ac-42db-c33a-cf8d93adbb6f"
      },
      "source": [
        "x = lambda a: a+a\n",
        "x(3)"
      ],
      "execution_count": null,
      "outputs": [
        {
          "output_type": "execute_result",
          "data": {
            "text/plain": [
              "6"
            ]
          },
          "metadata": {
            "tags": []
          },
          "execution_count": 28
        }
      ]
    },
    {
      "cell_type": "code",
      "metadata": {
        "id": "K0sN-aC-9ijl",
        "colab_type": "code",
        "colab": {
          "base_uri": "https://localhost:8080/",
          "height": 50
        },
        "outputId": "12f285c7-d05c-4947-d2d5-f00371c49600"
      },
      "source": [
        "def abc(x):\n",
        "    return lambda y: x+y\n",
        "t = abc(4)\n",
        "print(t)\n",
        "print(t(5))"
      ],
      "execution_count": null,
      "outputs": [
        {
          "output_type": "stream",
          "text": [
            "<function abc.<locals>.<lambda> at 0x7f35bf8bf2f0>\n",
            "9\n"
          ],
          "name": "stdout"
        }
      ]
    },
    {
      "cell_type": "code",
      "metadata": {
        "id": "dj8gcqlf-L9r",
        "colab_type": "code",
        "colab": {
          "base_uri": "https://localhost:8080/",
          "height": 34
        },
        "outputId": "bd2f09dd-df4e-4e90-e0f9-1fb361935e47"
      },
      "source": [
        "x = lambda a: a**a\n",
        "x(3)"
      ],
      "execution_count": null,
      "outputs": [
        {
          "output_type": "execute_result",
          "data": {
            "text/plain": [
              "27"
            ]
          },
          "metadata": {
            "tags": []
          },
          "execution_count": 35
        }
      ]
    },
    {
      "cell_type": "code",
      "metadata": {
        "id": "3YVIL3-v-e3D",
        "colab_type": "code",
        "colab": {
          "base_uri": "https://localhost:8080/",
          "height": 34
        },
        "outputId": "a3e52890-df30-4338-fd54-93af20220f24"
      },
      "source": [
        "z = lambda x,y: x**2+3*y\n",
        "z(1,2)"
      ],
      "execution_count": null,
      "outputs": [
        {
          "output_type": "execute_result",
          "data": {
            "text/plain": [
              "7"
            ]
          },
          "metadata": {
            "tags": []
          },
          "execution_count": 36
        }
      ]
    },
    {
      "cell_type": "code",
      "metadata": {
        "id": "L676zn-n-mnA",
        "colab_type": "code",
        "colab": {
          "base_uri": "https://localhost:8080/",
          "height": 34
        },
        "outputId": "debf8ab3-4608-434b-9e23-1c412c019b0b"
      },
      "source": [
        "z = lambda x,y: (x+y)**2\n",
        "print(z(2,3))"
      ],
      "execution_count": null,
      "outputs": [
        {
          "output_type": "stream",
          "text": [
            "25\n"
          ],
          "name": "stdout"
        }
      ]
    },
    {
      "cell_type": "code",
      "metadata": {
        "id": "zmmrNU9U-06F",
        "colab_type": "code",
        "colab": {
          "base_uri": "https://localhost:8080/",
          "height": 34
        },
        "outputId": "b372e820-04de-4cb6-b97c-a4fe3f0e4f67"
      },
      "source": [
        "l = [2,3,4,5]\n",
        "x = map(lambda x: x+4,l)\n",
        "print(list(x))"
      ],
      "execution_count": null,
      "outputs": [
        {
          "output_type": "stream",
          "text": [
            "[6, 7, 8, 9]\n"
          ],
          "name": "stdout"
        }
      ]
    },
    {
      "cell_type": "code",
      "metadata": {
        "id": "AUrE7jsS_CCe",
        "colab_type": "code",
        "colab": {
          "base_uri": "https://localhost:8080/",
          "height": 34
        },
        "outputId": "f2b7a9f0-4eb9-4be6-c712-afccca4d0ce3"
      },
      "source": [
        "l = [1,2,3,4]\n",
        "x = list(map(lambda x: x*2,l))\n",
        "print(x)"
      ],
      "execution_count": null,
      "outputs": [
        {
          "output_type": "stream",
          "text": [
            "[2, 4, 6, 8]\n"
          ],
          "name": "stdout"
        }
      ]
    },
    {
      "cell_type": "markdown",
      "metadata": {
        "id": "RUBDAeS94BTj",
        "colab_type": "text"
      },
      "source": [
        "# Filter()"
      ]
    },
    {
      "cell_type": "code",
      "metadata": {
        "id": "WP2YvoW9_H4j",
        "colab_type": "code",
        "colab": {
          "base_uri": "https://localhost:8080/",
          "height": 67
        },
        "outputId": "9d2c7c2b-700b-491a-d495-64abb69c1b6d"
      },
      "source": [
        "def add(a):\n",
        "    if a<=4:\n",
        "        return a\n",
        "x = filter( add, [1,2,3,4,5] )\n",
        "print(x)\n",
        "print(type(x))\n",
        "print(list(x))"
      ],
      "execution_count": null,
      "outputs": [
        {
          "output_type": "stream",
          "text": [
            "<filter object at 0x7fa6359bcdd8>\n",
            "<class 'filter'>\n",
            "[1, 2, 3, 4]\n"
          ],
          "name": "stdout"
        }
      ]
    },
    {
      "cell_type": "code",
      "metadata": {
        "id": "wH-VjYxG4gNd",
        "colab_type": "code",
        "colab": {
          "base_uri": "https://localhost:8080/",
          "height": 34
        },
        "outputId": "2df9abda-a985-4df7-aef3-163302b9a1b9"
      },
      "source": [
        "l = [i for i in range(10)]\n",
        "x = filter( lambda x: x>=3 ,l )\n",
        "print(list(x))"
      ],
      "execution_count": null,
      "outputs": [
        {
          "output_type": "stream",
          "text": [
            "[3, 4, 5, 6, 7, 8, 9]\n"
          ],
          "name": "stdout"
        }
      ]
    },
    {
      "cell_type": "code",
      "metadata": {
        "id": "vgsAhUUK4y_u",
        "colab_type": "code",
        "colab": {
          "base_uri": "https://localhost:8080/",
          "height": 34
        },
        "outputId": "d7916ce5-6285-4760-b3a5-75795a5566f3"
      },
      "source": [
        "l = [i for i in range(10)]\n",
        "print(list(filter( lambda x: x<=6 ,l )))"
      ],
      "execution_count": null,
      "outputs": [
        {
          "output_type": "stream",
          "text": [
            "[0, 1, 2, 3, 4, 5, 6]\n"
          ],
          "name": "stdout"
        }
      ]
    },
    {
      "cell_type": "markdown",
      "metadata": {
        "id": "YetjJn-m5Ako",
        "colab_type": "text"
      },
      "source": [
        "# Reduce()"
      ]
    },
    {
      "cell_type": "code",
      "metadata": {
        "id": "AwO0Kjrb5Ea5",
        "colab_type": "code",
        "colab": {
          "base_uri": "https://localhost:8080/",
          "height": 34
        },
        "outputId": "f312f598-4fdc-4583-a925-1e315f8ea3b9"
      },
      "source": [
        "from functools import reduce\n",
        "def add(a,b):\n",
        "    return a+b\n",
        "x = reduce(add, [i for i in range(20)])\n",
        "print(x)"
      ],
      "execution_count": null,
      "outputs": [
        {
          "output_type": "stream",
          "text": [
            "190\n"
          ],
          "name": "stdout"
        }
      ]
    },
    {
      "cell_type": "code",
      "metadata": {
        "id": "8xMn-yN95lNK",
        "colab_type": "code",
        "colab": {
          "base_uri": "https://localhost:8080/",
          "height": 34
        },
        "outputId": "94ad567e-9139-4df1-c137-8e67cff3c73c"
      },
      "source": [
        "reduce( lambda x,y: x+y , [i for i in range(20)] )"
      ],
      "execution_count": null,
      "outputs": [
        {
          "output_type": "execute_result",
          "data": {
            "text/plain": [
              "190"
            ]
          },
          "metadata": {
            "tags": []
          },
          "execution_count": 6
        }
      ]
    },
    {
      "cell_type": "code",
      "metadata": {
        "id": "NNsJzMob5y4f",
        "colab_type": "code",
        "colab": {
          "base_uri": "https://localhost:8080/",
          "height": 50
        },
        "outputId": "5bfb5462-9ec7-4cd3-f54d-e662099695be"
      },
      "source": [
        "x = map(lambda x: x+x,  filter(lambda x: x>=3., [1,2,3,4]))\n",
        "print(x)\n",
        "print(list(x))"
      ],
      "execution_count": null,
      "outputs": [
        {
          "output_type": "stream",
          "text": [
            "<map object at 0x7fa62dcb3208>\n",
            "[6, 8]\n"
          ],
          "name": "stdout"
        }
      ]
    },
    {
      "cell_type": "code",
      "metadata": {
        "id": "KbeQwv526Gcd",
        "colab_type": "code",
        "colab": {
          "base_uri": "https://localhost:8080/",
          "height": 50
        },
        "outputId": "0564b1df-67b7-4083-af12-6c67df232022"
      },
      "source": [
        "x = filter(lambda x: x>=3,  map(lambda x: x+3., [1,2,3,4]))\n",
        "print(x)\n",
        "print(list(x))"
      ],
      "execution_count": null,
      "outputs": [
        {
          "output_type": "stream",
          "text": [
            "<filter object at 0x7fa62dcb3f98>\n",
            "[4.0, 5.0, 6.0, 7.0]\n"
          ],
          "name": "stdout"
        }
      ]
    },
    {
      "cell_type": "code",
      "metadata": {
        "id": "TyIOlSTe6unC",
        "colab_type": "code",
        "colab": {
          "base_uri": "https://localhost:8080/",
          "height": 34
        },
        "outputId": "29a8c182-c673-4945-e5cd-be805cb76b56"
      },
      "source": [
        "x = reduce(lambda x,y: x+y,  map(lambda x:x+x, filter(lambda x: x>=3, (1,2,3,4))))\n",
        "print(x)"
      ],
      "execution_count": null,
      "outputs": [
        {
          "output_type": "stream",
          "text": [
            "14\n"
          ],
          "name": "stdout"
        }
      ]
    },
    {
      "cell_type": "markdown",
      "metadata": {
        "id": "9lIKS8nR7RPc",
        "colab_type": "text"
      },
      "source": [
        "# **Question2**\n",
        "Recreate your own Python NB for “Classes and Objects” from the pdf provided namely\n",
        "“Classes&Objects.pdf”"
      ]
    },
    {
      "cell_type": "markdown",
      "metadata": {
        "id": "oh4T3zvFlzej",
        "colab_type": "text"
      },
      "source": [
        "# Classes and objects"
      ]
    },
    {
      "cell_type": "code",
      "metadata": {
        "id": "is0oZ-x87W_u",
        "colab_type": "code",
        "colab": {}
      },
      "source": [
        "class Employee:\n",
        "  'Common base class for all employees'\n",
        "  empCount=0\n",
        "  def __init__(self,name,salary):\n",
        "    self.name=name\n",
        "    self.salary=salary\n",
        "    Employee.empCount+=1\n",
        "  def displayCount(self):\n",
        "    print(\"Total Employee %d\",Employee.empCount)\n",
        "  def displayEmployee(self):\n",
        "    print(\"Name:\",self.name,  \"Salary:\",self.salary)\n",
        "\n"
      ],
      "execution_count": null,
      "outputs": []
    },
    {
      "cell_type": "markdown",
      "metadata": {
        "id": "fCoHkSaFUKvy",
        "colab_type": "text"
      },
      "source": [
        "# Creating instances"
      ]
    },
    {
      "cell_type": "code",
      "metadata": {
        "id": "CiwrgFauUPZp",
        "colab_type": "code",
        "colab": {}
      },
      "source": [
        "emp1=Employee(\"Aswitha\", 45000)\n",
        "emp2=Employee(\"Vidya\",45500)\n",
        "emp3=Employee(\"Chikitha\",35000)\n",
        "emp4=Employee(\"Navya\",50000)"
      ],
      "execution_count": null,
      "outputs": []
    },
    {
      "cell_type": "markdown",
      "metadata": {
        "id": "1yACCDhFUWtv",
        "colab_type": "text"
      },
      "source": [
        "# Accessing attributes"
      ]
    },
    {
      "cell_type": "code",
      "metadata": {
        "id": "vt1s97QdUbYu",
        "colab_type": "code",
        "colab": {
          "base_uri": "https://localhost:8080/",
          "height": 101
        },
        "outputId": "7c9497c5-780a-4f89-ceb3-41b9b4efcf1a"
      },
      "source": [
        "emp1.displayEmployee()\n",
        "emp2.displayEmployee()\n",
        "emp3.displayEmployee()\n",
        "emp4.displayEmployee()\n",
        "print(\"Employee Count:\",Employee.empCount)"
      ],
      "execution_count": null,
      "outputs": [
        {
          "output_type": "stream",
          "text": [
            "Name: Aswitha Salary: 45000\n",
            "Name: Vidya Salary: 45500\n",
            "Name: Chikitha Salary: 35000\n",
            "Name: Navya Salary: 50000\n",
            "Employee Count: 4\n"
          ],
          "name": "stdout"
        }
      ]
    },
    {
      "cell_type": "markdown",
      "metadata": {
        "id": "ef2kCIsFV7jK",
        "colab_type": "text"
      },
      "source": [
        "# Built-In class attributes"
      ]
    },
    {
      "cell_type": "code",
      "metadata": {
        "id": "i9lRQQ1NStqM",
        "colab_type": "code",
        "colab": {
          "base_uri": "https://localhost:8080/",
          "height": 121
        },
        "outputId": "404edb4f-0709-401e-cc54-2084b256dc0a"
      },
      "source": [
        "print(\"Employee.__doc__:\",Employee.__doc__)\n",
        "print(\"Employee.__name__:\",Employee.__name__)\n",
        "print(\"Employee.__dict__:\",Employee.__dict__)\n",
        "print(\"Employee.__bases__:\",Employee.__bases__)\n",
        "print(\"Employee.__module__:\",Employee.__module__)\n"
      ],
      "execution_count": null,
      "outputs": [
        {
          "output_type": "stream",
          "text": [
            "Employee.__doc__: Common base class for all employees\n",
            "Employee.__name__: Employee\n",
            "Employee.__dict__: {'__module__': '__main__', '__doc__': 'Common base class for all employees', 'empCount': 4, '__init__': <function Employee.__init__ at 0x7ff8c4965598>, 'displayCount': <function Employee.displayCount at 0x7ff8c4965620>, 'displayEmployee': <function Employee.displayEmployee at 0x7ff8c49656a8>, '__dict__': <attribute '__dict__' of 'Employee' objects>, '__weakref__': <attribute '__weakref__' of 'Employee' objects>}\n",
            "Employee.__bases__: (<class 'object'>,)\n",
            "Employee.__module__: __main__\n"
          ],
          "name": "stdout"
        }
      ]
    },
    {
      "cell_type": "markdown",
      "metadata": {
        "id": "ze0oS9dpYUZe",
        "colab_type": "text"
      },
      "source": [
        "# __ del() __ Destructor"
      ]
    },
    {
      "cell_type": "code",
      "metadata": {
        "id": "Dp1J9r1iYKYM",
        "colab_type": "code",
        "colab": {
          "base_uri": "https://localhost:8080/",
          "height": 50
        },
        "outputId": "de8a71cc-8e98-4650-e10d-a18df3c6aa0c"
      },
      "source": [
        "class point:\n",
        "  def __int(self,x=0,y=0):\n",
        "    self.x=x\n",
        "    self.y=y\n",
        "  def __del__(self):\n",
        "    class_name=self.__class__.__name__\n",
        "    print(class_name,\"Destroyed\")\n",
        "p1=point()\n",
        "p2=p1\n",
        "p3=p2\n",
        "print(id(p1),id(p2),id(p3))\n",
        "del p1\n",
        "del p2\n",
        "del p3"
      ],
      "execution_count": null,
      "outputs": [
        {
          "output_type": "stream",
          "text": [
            "140706426927816 140706426927816 140706426927816\n",
            "point Destroyed\n"
          ],
          "name": "stdout"
        }
      ]
    },
    {
      "cell_type": "markdown",
      "metadata": {
        "id": "qonooMPfagWw",
        "colab_type": "text"
      },
      "source": [
        "# Class Inheritence"
      ]
    },
    {
      "cell_type": "code",
      "metadata": {
        "id": "5bhXKR7makmI",
        "colab_type": "code",
        "colab": {
          "base_uri": "https://localhost:8080/",
          "height": 67
        },
        "outputId": "4b4ee876-e1ea-48b5-8c88-dea6c1734735"
      },
      "source": [
        "class parent:\n",
        "  parentattr=100\n",
        "  def __int__(self):\n",
        "    print(\"calling parent constructor\")\n",
        "  def parentmethod(self):\n",
        "    print(\"calling parent method\")\n",
        "  def setattr(self,attr):\n",
        "    parent.parentattr=attr\n",
        "  def getattr(self):\n",
        "    print(\"Parent Attribute:\",parent.parentattr)\n",
        "class child(parent):\n",
        "  def __int__(self):\n",
        "    print(\"calling child constructor\")\n",
        "  def childmethod(self):\n",
        "    print(\"calling child method\")\n",
        "c=child()\n",
        "c.childmethod()\n",
        "c.parentmethod()\n",
        "c.setattr(200)\n",
        "c.getattr()\n"
      ],
      "execution_count": null,
      "outputs": [
        {
          "output_type": "stream",
          "text": [
            "calling child method\n",
            "calling parent method\n",
            "Parent Attribute: 200\n"
          ],
          "name": "stdout"
        }
      ]
    },
    {
      "cell_type": "markdown",
      "metadata": {
        "id": "Fs_rAifwdh7J",
        "colab_type": "text"
      },
      "source": [
        "# Overridding methods"
      ]
    },
    {
      "cell_type": "code",
      "metadata": {
        "id": "gCIu3okadg_c",
        "colab_type": "code",
        "colab": {
          "base_uri": "https://localhost:8080/",
          "height": 34
        },
        "outputId": "a08099e3-06e4-47ae-f66c-c4746bc72961"
      },
      "source": [
        "class parent:\n",
        "  def mymethod(self):\n",
        "    print(\"calling parent method\")\n",
        "class child(parent):\n",
        "  def mymethod(self):\n",
        "    print(\"calling child method\")\n",
        "c=child()\n",
        "c.mymethod()\n"
      ],
      "execution_count": null,
      "outputs": [
        {
          "output_type": "stream",
          "text": [
            "calling child method\n"
          ],
          "name": "stdout"
        }
      ]
    },
    {
      "cell_type": "markdown",
      "metadata": {
        "id": "L1QFl6z7ecNJ",
        "colab_type": "text"
      },
      "source": [
        "# Overloading Operators"
      ]
    },
    {
      "cell_type": "code",
      "metadata": {
        "id": "cBMdB7uieh5B",
        "colab_type": "code",
        "colab": {
          "base_uri": "https://localhost:8080/",
          "height": 34
        },
        "outputId": "d1bfa8c7-9cfc-4bcd-a635-6ecd16d7a200"
      },
      "source": [
        "class vector:\n",
        "  def __init__(self, a=0,b=0):\n",
        "    self.a=a\n",
        "    self.b=b\n",
        "  def __str__(self):\n",
        "    return  'vector(%d,%d)'% (self.a,self.b)\n",
        "  def __add__(self,other):\n",
        "    return vector(self.a+other.a,self.b+other.b)\n",
        "v1=vector(2,10)\n",
        "v2=vector(5,-2)\n",
        "print(v1+v2)\n",
        "  "
      ],
      "execution_count": 5,
      "outputs": [
        {
          "output_type": "stream",
          "text": [
            "vector(7,8)\n"
          ],
          "name": "stdout"
        }
      ]
    },
    {
      "cell_type": "markdown",
      "metadata": {
        "id": "70aBcxxGLQsy",
        "colab_type": "text"
      },
      "source": [
        "# Data Hiding"
      ]
    },
    {
      "cell_type": "code",
      "metadata": {
        "id": "DcrpYpznLYwq",
        "colab_type": "code",
        "colab": {
          "base_uri": "https://localhost:8080/",
          "height": 67
        },
        "outputId": "2a590cba-0500-42e9-f6fe-f25a8ebe5d0c"
      },
      "source": [
        "class JustCounter:\n",
        "  __secretCount=0\n",
        "  def count(self):\n",
        "    self.__secretCount +=1\n",
        "    print(self.__secretCount)\n",
        "counter=JustCounter()\n",
        "counter.count()\n",
        "counter.count()\n",
        "print(counter._JustCounter__secretCount)"
      ],
      "execution_count": 14,
      "outputs": [
        {
          "output_type": "stream",
          "text": [
            "1\n",
            "2\n",
            "2\n"
          ],
          "name": "stdout"
        }
      ]
    }
  ]
}