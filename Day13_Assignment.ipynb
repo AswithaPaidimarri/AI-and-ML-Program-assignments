{
  "nbformat": 4,
  "nbformat_minor": 0,
  "metadata": {
    "colab": {
      "name": "Day13 Assignment.ipynb",
      "provenance": [],
      "collapsed_sections": [],
      "toc_visible": true
    },
    "kernelspec": {
      "name": "python3",
      "display_name": "Python 3"
    }
  },
  "cells": [
    {
      "cell_type": "markdown",
      "metadata": {
        "id": "uD3uzOYKzDve",
        "colab_type": "text"
      },
      "source": [
        "# **AI and ML Program by letsUpgrade**\n",
        "# **DAY13 ASSIGNMENT**\n",
        "# **SUBMITTED BY**\n",
        "# **NAME:-PAIDIMARRI VENKATA SAI ASWITHA** "
      ]
    },
    {
      "cell_type": "markdown",
      "metadata": {
        "id": "0JWH4ZvkrhoU",
        "colab_type": "text"
      },
      "source": [
        "# **Prepare a case study for the given Dataset implement the following steps:**"
      ]
    },
    {
      "cell_type": "markdown",
      "metadata": {
        "id": "W4UeXv96rpO8",
        "colab_type": "text"
      },
      "source": [
        "# Import different required library"
      ]
    },
    {
      "cell_type": "code",
      "metadata": {
        "id": "-VnCAh-QqF-A",
        "colab_type": "code",
        "colab": {
          "base_uri": "https://localhost:8080/",
          "height": 215
        },
        "outputId": "0bab8cfa-4661-4059-9dad-1d186564e74f"
      },
      "source": [
        "import pandas as pd\n",
        "df=pd.read_csv('/content/creditcard.csv')\n",
        "df.head()"
      ],
      "execution_count": 2,
      "outputs": [
        {
          "output_type": "execute_result",
          "data": {
            "text/html": [
              "<div>\n",
              "<style scoped>\n",
              "    .dataframe tbody tr th:only-of-type {\n",
              "        vertical-align: middle;\n",
              "    }\n",
              "\n",
              "    .dataframe tbody tr th {\n",
              "        vertical-align: top;\n",
              "    }\n",
              "\n",
              "    .dataframe thead th {\n",
              "        text-align: right;\n",
              "    }\n",
              "</style>\n",
              "<table border=\"1\" class=\"dataframe\">\n",
              "  <thead>\n",
              "    <tr style=\"text-align: right;\">\n",
              "      <th></th>\n",
              "      <th>Time</th>\n",
              "      <th>V1</th>\n",
              "      <th>V2</th>\n",
              "      <th>V3</th>\n",
              "      <th>V4</th>\n",
              "      <th>V5</th>\n",
              "      <th>V6</th>\n",
              "      <th>V7</th>\n",
              "      <th>V8</th>\n",
              "      <th>V9</th>\n",
              "      <th>V10</th>\n",
              "      <th>V11</th>\n",
              "      <th>V12</th>\n",
              "      <th>V13</th>\n",
              "      <th>V14</th>\n",
              "      <th>V15</th>\n",
              "      <th>V16</th>\n",
              "      <th>V17</th>\n",
              "      <th>V18</th>\n",
              "      <th>V19</th>\n",
              "      <th>V20</th>\n",
              "      <th>V21</th>\n",
              "      <th>V22</th>\n",
              "      <th>V23</th>\n",
              "      <th>V24</th>\n",
              "      <th>V25</th>\n",
              "      <th>V26</th>\n",
              "      <th>V27</th>\n",
              "      <th>V28</th>\n",
              "      <th>Amount</th>\n",
              "      <th>Class</th>\n",
              "    </tr>\n",
              "  </thead>\n",
              "  <tbody>\n",
              "    <tr>\n",
              "      <th>0</th>\n",
              "      <td>0.0</td>\n",
              "      <td>-1.359807</td>\n",
              "      <td>-0.072781</td>\n",
              "      <td>2.536347</td>\n",
              "      <td>1.378155</td>\n",
              "      <td>-0.338321</td>\n",
              "      <td>0.462388</td>\n",
              "      <td>0.239599</td>\n",
              "      <td>0.098698</td>\n",
              "      <td>0.363787</td>\n",
              "      <td>0.090794</td>\n",
              "      <td>-0.551600</td>\n",
              "      <td>-0.617801</td>\n",
              "      <td>-0.991390</td>\n",
              "      <td>-0.311169</td>\n",
              "      <td>1.468177</td>\n",
              "      <td>-0.470401</td>\n",
              "      <td>0.207971</td>\n",
              "      <td>0.025791</td>\n",
              "      <td>0.403993</td>\n",
              "      <td>0.251412</td>\n",
              "      <td>-0.018307</td>\n",
              "      <td>0.277838</td>\n",
              "      <td>-0.110474</td>\n",
              "      <td>0.066928</td>\n",
              "      <td>0.128539</td>\n",
              "      <td>-0.189115</td>\n",
              "      <td>0.133558</td>\n",
              "      <td>-0.021053</td>\n",
              "      <td>149.62</td>\n",
              "      <td>'0'</td>\n",
              "    </tr>\n",
              "    <tr>\n",
              "      <th>1</th>\n",
              "      <td>0.0</td>\n",
              "      <td>1.191857</td>\n",
              "      <td>0.266151</td>\n",
              "      <td>0.166480</td>\n",
              "      <td>0.448154</td>\n",
              "      <td>0.060018</td>\n",
              "      <td>-0.082361</td>\n",
              "      <td>-0.078803</td>\n",
              "      <td>0.085102</td>\n",
              "      <td>-0.255425</td>\n",
              "      <td>-0.166974</td>\n",
              "      <td>1.612727</td>\n",
              "      <td>1.065235</td>\n",
              "      <td>0.489095</td>\n",
              "      <td>-0.143772</td>\n",
              "      <td>0.635558</td>\n",
              "      <td>0.463917</td>\n",
              "      <td>-0.114805</td>\n",
              "      <td>-0.183361</td>\n",
              "      <td>-0.145783</td>\n",
              "      <td>-0.069083</td>\n",
              "      <td>-0.225775</td>\n",
              "      <td>-0.638672</td>\n",
              "      <td>0.101288</td>\n",
              "      <td>-0.339846</td>\n",
              "      <td>0.167170</td>\n",
              "      <td>0.125895</td>\n",
              "      <td>-0.008983</td>\n",
              "      <td>0.014724</td>\n",
              "      <td>2.69</td>\n",
              "      <td>'0'</td>\n",
              "    </tr>\n",
              "    <tr>\n",
              "      <th>2</th>\n",
              "      <td>1.0</td>\n",
              "      <td>-1.358354</td>\n",
              "      <td>-1.340163</td>\n",
              "      <td>1.773209</td>\n",
              "      <td>0.379780</td>\n",
              "      <td>-0.503198</td>\n",
              "      <td>1.800499</td>\n",
              "      <td>0.791461</td>\n",
              "      <td>0.247676</td>\n",
              "      <td>-1.514654</td>\n",
              "      <td>0.207643</td>\n",
              "      <td>0.624501</td>\n",
              "      <td>0.066084</td>\n",
              "      <td>0.717293</td>\n",
              "      <td>-0.165946</td>\n",
              "      <td>2.345865</td>\n",
              "      <td>-2.890083</td>\n",
              "      <td>1.109969</td>\n",
              "      <td>-0.121359</td>\n",
              "      <td>-2.261857</td>\n",
              "      <td>0.524980</td>\n",
              "      <td>0.247998</td>\n",
              "      <td>0.771679</td>\n",
              "      <td>0.909412</td>\n",
              "      <td>-0.689281</td>\n",
              "      <td>-0.327642</td>\n",
              "      <td>-0.139097</td>\n",
              "      <td>-0.055353</td>\n",
              "      <td>-0.059752</td>\n",
              "      <td>378.66</td>\n",
              "      <td>'0'</td>\n",
              "    </tr>\n",
              "    <tr>\n",
              "      <th>3</th>\n",
              "      <td>1.0</td>\n",
              "      <td>-0.966272</td>\n",
              "      <td>-0.185226</td>\n",
              "      <td>1.792993</td>\n",
              "      <td>-0.863291</td>\n",
              "      <td>-0.010309</td>\n",
              "      <td>1.247203</td>\n",
              "      <td>0.237609</td>\n",
              "      <td>0.377436</td>\n",
              "      <td>-1.387024</td>\n",
              "      <td>-0.054952</td>\n",
              "      <td>-0.226487</td>\n",
              "      <td>0.178228</td>\n",
              "      <td>0.507757</td>\n",
              "      <td>-0.287924</td>\n",
              "      <td>-0.631418</td>\n",
              "      <td>-1.059647</td>\n",
              "      <td>-0.684093</td>\n",
              "      <td>1.965775</td>\n",
              "      <td>-1.232622</td>\n",
              "      <td>-0.208038</td>\n",
              "      <td>-0.108300</td>\n",
              "      <td>0.005274</td>\n",
              "      <td>-0.190321</td>\n",
              "      <td>-1.175575</td>\n",
              "      <td>0.647376</td>\n",
              "      <td>-0.221929</td>\n",
              "      <td>0.062723</td>\n",
              "      <td>0.061458</td>\n",
              "      <td>123.50</td>\n",
              "      <td>'0'</td>\n",
              "    </tr>\n",
              "    <tr>\n",
              "      <th>4</th>\n",
              "      <td>2.0</td>\n",
              "      <td>-1.158233</td>\n",
              "      <td>0.877737</td>\n",
              "      <td>1.548718</td>\n",
              "      <td>0.403034</td>\n",
              "      <td>-0.407193</td>\n",
              "      <td>0.095921</td>\n",
              "      <td>0.592941</td>\n",
              "      <td>-0.270533</td>\n",
              "      <td>0.817739</td>\n",
              "      <td>0.753074</td>\n",
              "      <td>-0.822843</td>\n",
              "      <td>0.538196</td>\n",
              "      <td>1.345852</td>\n",
              "      <td>-1.119670</td>\n",
              "      <td>0.175121</td>\n",
              "      <td>-0.451449</td>\n",
              "      <td>-0.237033</td>\n",
              "      <td>-0.038195</td>\n",
              "      <td>0.803487</td>\n",
              "      <td>0.408542</td>\n",
              "      <td>-0.009431</td>\n",
              "      <td>0.798278</td>\n",
              "      <td>-0.137458</td>\n",
              "      <td>0.141267</td>\n",
              "      <td>-0.206010</td>\n",
              "      <td>0.502292</td>\n",
              "      <td>0.219422</td>\n",
              "      <td>0.215153</td>\n",
              "      <td>69.99</td>\n",
              "      <td>'0'</td>\n",
              "    </tr>\n",
              "  </tbody>\n",
              "</table>\n",
              "</div>"
            ],
            "text/plain": [
              "   Time        V1        V2        V3  ...       V27       V28  Amount  Class\n",
              "0   0.0 -1.359807 -0.072781  2.536347  ...  0.133558 -0.021053  149.62    '0'\n",
              "1   0.0  1.191857  0.266151  0.166480  ... -0.008983  0.014724    2.69    '0'\n",
              "2   1.0 -1.358354 -1.340163  1.773209  ... -0.055353 -0.059752  378.66    '0'\n",
              "3   1.0 -0.966272 -0.185226  1.792993  ...  0.062723  0.061458  123.50    '0'\n",
              "4   2.0 -1.158233  0.877737  1.548718  ...  0.219422  0.215153   69.99    '0'\n",
              "\n",
              "[5 rows x 31 columns]"
            ]
          },
          "metadata": {
            "tags": []
          },
          "execution_count": 2
        }
      ]
    },
    {
      "cell_type": "markdown",
      "metadata": {
        "id": "LS5J8lM_r-bb",
        "colab_type": "text"
      },
      "source": [
        "# Check the version of Library"
      ]
    },
    {
      "cell_type": "code",
      "metadata": {
        "id": "0SHUJOvRr9ZQ",
        "colab_type": "code",
        "colab": {
          "base_uri": "https://localhost:8080/",
          "height": 35
        },
        "outputId": "1458ba33-fbe0-404d-c8fc-01e8b25816df"
      },
      "source": [
        "pd.__version__\n"
      ],
      "execution_count": null,
      "outputs": [
        {
          "output_type": "execute_result",
          "data": {
            "application/vnd.google.colaboratory.intrinsic+json": {
              "type": "string"
            },
            "text/plain": [
              "'1.0.5'"
            ]
          },
          "metadata": {
            "tags": []
          },
          "execution_count": 4
        }
      ]
    },
    {
      "cell_type": "markdown",
      "metadata": {
        "id": "w92Ox_ydsEZH",
        "colab_type": "text"
      },
      "source": [
        "# Go for different observation like Info, description"
      ]
    },
    {
      "cell_type": "code",
      "metadata": {
        "id": "Qqe_VbL7sJMf",
        "colab_type": "code",
        "colab": {
          "base_uri": "https://localhost:8080/",
          "height": 655
        },
        "outputId": "566470d5-aa91-4b14-e4ed-aba7651f4451"
      },
      "source": [
        "df.info()"
      ],
      "execution_count": null,
      "outputs": [
        {
          "output_type": "stream",
          "text": [
            "<class 'pandas.core.frame.DataFrame'>\n",
            "RangeIndex: 11936 entries, 0 to 11935\n",
            "Data columns (total 31 columns):\n",
            " #   Column  Non-Null Count  Dtype  \n",
            "---  ------  --------------  -----  \n",
            " 0   Time    11936 non-null  int64  \n",
            " 1   V1      11936 non-null  float64\n",
            " 2   V2      11936 non-null  float64\n",
            " 3   V3      11936 non-null  float64\n",
            " 4   V4      11936 non-null  float64\n",
            " 5   V5      11936 non-null  float64\n",
            " 6   V6      11936 non-null  float64\n",
            " 7   V7      11936 non-null  float64\n",
            " 8   V8      11936 non-null  float64\n",
            " 9   V9      11936 non-null  float64\n",
            " 10  V10     11936 non-null  float64\n",
            " 11  V11     11936 non-null  float64\n",
            " 12  V12     11936 non-null  float64\n",
            " 13  V13     11936 non-null  float64\n",
            " 14  V14     11936 non-null  float64\n",
            " 15  V15     11936 non-null  float64\n",
            " 16  V16     11936 non-null  float64\n",
            " 17  V17     11936 non-null  float64\n",
            " 18  V18     11936 non-null  float64\n",
            " 19  V19     11936 non-null  float64\n",
            " 20  V20     11936 non-null  float64\n",
            " 21  V21     11936 non-null  float64\n",
            " 22  V22     11936 non-null  float64\n",
            " 23  V23     11936 non-null  float64\n",
            " 24  V24     11936 non-null  float64\n",
            " 25  V25     11936 non-null  float64\n",
            " 26  V26     11936 non-null  float64\n",
            " 27  V27     11935 non-null  float64\n",
            " 28  V28     11935 non-null  float64\n",
            " 29  Amount  11935 non-null  float64\n",
            " 30  Class   11935 non-null  object \n",
            "dtypes: float64(29), int64(1), object(1)\n",
            "memory usage: 2.8+ MB\n"
          ],
          "name": "stdout"
        }
      ]
    },
    {
      "cell_type": "code",
      "metadata": {
        "id": "08uk6UB0t89L",
        "colab_type": "code",
        "colab": {
          "base_uri": "https://localhost:8080/",
          "height": 304
        },
        "outputId": "48ac1ee4-24a2-4afd-cd49-6fe66b2ce56e"
      },
      "source": [
        "d=df.describe()\n",
        "d"
      ],
      "execution_count": 5,
      "outputs": [
        {
          "output_type": "execute_result",
          "data": {
            "text/html": [
              "<div>\n",
              "<style scoped>\n",
              "    .dataframe tbody tr th:only-of-type {\n",
              "        vertical-align: middle;\n",
              "    }\n",
              "\n",
              "    .dataframe tbody tr th {\n",
              "        vertical-align: top;\n",
              "    }\n",
              "\n",
              "    .dataframe thead th {\n",
              "        text-align: right;\n",
              "    }\n",
              "</style>\n",
              "<table border=\"1\" class=\"dataframe\">\n",
              "  <thead>\n",
              "    <tr style=\"text-align: right;\">\n",
              "      <th></th>\n",
              "      <th>Time</th>\n",
              "      <th>V1</th>\n",
              "      <th>V2</th>\n",
              "      <th>V3</th>\n",
              "      <th>V4</th>\n",
              "      <th>V5</th>\n",
              "      <th>V6</th>\n",
              "      <th>V7</th>\n",
              "      <th>V8</th>\n",
              "      <th>V9</th>\n",
              "      <th>V10</th>\n",
              "      <th>V11</th>\n",
              "      <th>V12</th>\n",
              "      <th>V13</th>\n",
              "      <th>V14</th>\n",
              "      <th>V15</th>\n",
              "      <th>V16</th>\n",
              "      <th>V17</th>\n",
              "      <th>V18</th>\n",
              "      <th>V19</th>\n",
              "      <th>V20</th>\n",
              "      <th>V21</th>\n",
              "      <th>V22</th>\n",
              "      <th>V23</th>\n",
              "      <th>V24</th>\n",
              "      <th>V25</th>\n",
              "      <th>V26</th>\n",
              "      <th>V27</th>\n",
              "      <th>V28</th>\n",
              "      <th>Amount</th>\n",
              "    </tr>\n",
              "  </thead>\n",
              "  <tbody>\n",
              "    <tr>\n",
              "      <th>count</th>\n",
              "      <td>199747.000000</td>\n",
              "      <td>199747.000000</td>\n",
              "      <td>199747.000000</td>\n",
              "      <td>199747.000000</td>\n",
              "      <td>199747.000000</td>\n",
              "      <td>199747.000000</td>\n",
              "      <td>199747.000000</td>\n",
              "      <td>199747.000000</td>\n",
              "      <td>199747.000000</td>\n",
              "      <td>199747.000000</td>\n",
              "      <td>199747.000000</td>\n",
              "      <td>199747.000000</td>\n",
              "      <td>199747.000000</td>\n",
              "      <td>199747.000000</td>\n",
              "      <td>199747.000000</td>\n",
              "      <td>199747.000000</td>\n",
              "      <td>199747.000000</td>\n",
              "      <td>199747.000000</td>\n",
              "      <td>199747.000000</td>\n",
              "      <td>199747.000000</td>\n",
              "      <td>199747.000000</td>\n",
              "      <td>199747.000000</td>\n",
              "      <td>199747.000000</td>\n",
              "      <td>199747.000000</td>\n",
              "      <td>199747.000000</td>\n",
              "      <td>199747.000000</td>\n",
              "      <td>199746.000000</td>\n",
              "      <td>199746.000000</td>\n",
              "      <td>199746.000000</td>\n",
              "      <td>199746.000000</td>\n",
              "    </tr>\n",
              "    <tr>\n",
              "      <th>mean</th>\n",
              "      <td>70564.403310</td>\n",
              "      <td>-0.105027</td>\n",
              "      <td>0.003395</td>\n",
              "      <td>0.318558</td>\n",
              "      <td>0.074874</td>\n",
              "      <td>-0.111270</td>\n",
              "      <td>0.045723</td>\n",
              "      <td>-0.050456</td>\n",
              "      <td>0.016969</td>\n",
              "      <td>0.008922</td>\n",
              "      <td>-0.010918</td>\n",
              "      <td>0.125396</td>\n",
              "      <td>-0.069528</td>\n",
              "      <td>0.037041</td>\n",
              "      <td>0.050320</td>\n",
              "      <td>0.083698</td>\n",
              "      <td>-0.006034</td>\n",
              "      <td>0.026584</td>\n",
              "      <td>-0.035806</td>\n",
              "      <td>-0.013258</td>\n",
              "      <td>0.019566</td>\n",
              "      <td>-0.014728</td>\n",
              "      <td>-0.047555</td>\n",
              "      <td>-0.015540</td>\n",
              "      <td>0.004171</td>\n",
              "      <td>0.060570</td>\n",
              "      <td>0.006163</td>\n",
              "      <td>0.001600</td>\n",
              "      <td>0.001885</td>\n",
              "      <td>89.756031</td>\n",
              "    </tr>\n",
              "    <tr>\n",
              "      <th>std</th>\n",
              "      <td>34578.428154</td>\n",
              "      <td>1.893451</td>\n",
              "      <td>1.624124</td>\n",
              "      <td>1.448435</td>\n",
              "      <td>1.399382</td>\n",
              "      <td>1.362085</td>\n",
              "      <td>1.311266</td>\n",
              "      <td>1.218042</td>\n",
              "      <td>1.209992</td>\n",
              "      <td>1.135749</td>\n",
              "      <td>1.093170</td>\n",
              "      <td>1.040835</td>\n",
              "      <td>1.093468</td>\n",
              "      <td>1.031717</td>\n",
              "      <td>0.971805</td>\n",
              "      <td>0.944390</td>\n",
              "      <td>0.885964</td>\n",
              "      <td>0.890497</td>\n",
              "      <td>0.839677</td>\n",
              "      <td>0.819175</td>\n",
              "      <td>0.751192</td>\n",
              "      <td>0.738263</td>\n",
              "      <td>0.691571</td>\n",
              "      <td>0.613561</td>\n",
              "      <td>0.603684</td>\n",
              "      <td>0.491678</td>\n",
              "      <td>0.488318</td>\n",
              "      <td>0.394785</td>\n",
              "      <td>0.314602</td>\n",
              "      <td>248.778568</td>\n",
              "    </tr>\n",
              "    <tr>\n",
              "      <th>min</th>\n",
              "      <td>0.000000</td>\n",
              "      <td>-56.407510</td>\n",
              "      <td>-72.715728</td>\n",
              "      <td>-33.680984</td>\n",
              "      <td>-5.683171</td>\n",
              "      <td>-42.147898</td>\n",
              "      <td>-26.160506</td>\n",
              "      <td>-43.557242</td>\n",
              "      <td>-73.216718</td>\n",
              "      <td>-13.434066</td>\n",
              "      <td>-24.588262</td>\n",
              "      <td>-4.797473</td>\n",
              "      <td>-18.683715</td>\n",
              "      <td>-5.791881</td>\n",
              "      <td>-19.214325</td>\n",
              "      <td>-4.498945</td>\n",
              "      <td>-14.129855</td>\n",
              "      <td>-25.162799</td>\n",
              "      <td>-9.498746</td>\n",
              "      <td>-7.213527</td>\n",
              "      <td>-25.222345</td>\n",
              "      <td>-34.830382</td>\n",
              "      <td>-10.933144</td>\n",
              "      <td>-44.807735</td>\n",
              "      <td>-2.836627</td>\n",
              "      <td>-10.295397</td>\n",
              "      <td>-2.604551</td>\n",
              "      <td>-22.565679</td>\n",
              "      <td>-11.710896</td>\n",
              "      <td>0.000000</td>\n",
              "    </tr>\n",
              "    <tr>\n",
              "      <th>25%</th>\n",
              "      <td>44274.000000</td>\n",
              "      <td>-0.962081</td>\n",
              "      <td>-0.582179</td>\n",
              "      <td>-0.340318</td>\n",
              "      <td>-0.792983</td>\n",
              "      <td>-0.783605</td>\n",
              "      <td>-0.710824</td>\n",
              "      <td>-0.576410</td>\n",
              "      <td>-0.181098</td>\n",
              "      <td>-0.663711</td>\n",
              "      <td>-0.519581</td>\n",
              "      <td>-0.631294</td>\n",
              "      <td>-0.480987</td>\n",
              "      <td>-0.641119</td>\n",
              "      <td>-0.366568</td>\n",
              "      <td>-0.507320</td>\n",
              "      <td>-0.477071</td>\n",
              "      <td>-0.441403</td>\n",
              "      <td>-0.520439</td>\n",
              "      <td>-0.489921</td>\n",
              "      <td>-0.194378</td>\n",
              "      <td>-0.227100</td>\n",
              "      <td>-0.537617</td>\n",
              "      <td>-0.168563</td>\n",
              "      <td>-0.341888</td>\n",
              "      <td>-0.240706</td>\n",
              "      <td>-0.331150</td>\n",
              "      <td>-0.067432</td>\n",
              "      <td>-0.041720</td>\n",
              "      <td>5.990000</td>\n",
              "    </tr>\n",
              "    <tr>\n",
              "      <th>50%</th>\n",
              "      <td>67318.000000</td>\n",
              "      <td>-0.090332</td>\n",
              "      <td>0.081298</td>\n",
              "      <td>0.490563</td>\n",
              "      <td>0.075719</td>\n",
              "      <td>-0.168866</td>\n",
              "      <td>-0.219461</td>\n",
              "      <td>-0.010122</td>\n",
              "      <td>0.043110</td>\n",
              "      <td>-0.073928</td>\n",
              "      <td>-0.100112</td>\n",
              "      <td>0.064394</td>\n",
              "      <td>0.113104</td>\n",
              "      <td>0.011974</td>\n",
              "      <td>0.074972</td>\n",
              "      <td>0.175600</td>\n",
              "      <td>0.061703</td>\n",
              "      <td>-0.033832</td>\n",
              "      <td>-0.038031</td>\n",
              "      <td>-0.013908</td>\n",
              "      <td>-0.044239</td>\n",
              "      <td>-0.042900</td>\n",
              "      <td>-0.034616</td>\n",
              "      <td>-0.028807</td>\n",
              "      <td>0.052624</td>\n",
              "      <td>0.103059</td>\n",
              "      <td>-0.061021</td>\n",
              "      <td>0.005922</td>\n",
              "      <td>0.018449</td>\n",
              "      <td>23.000000</td>\n",
              "    </tr>\n",
              "    <tr>\n",
              "      <th>75%</th>\n",
              "      <td>91993.500000</td>\n",
              "      <td>1.214144</td>\n",
              "      <td>0.783341</td>\n",
              "      <td>1.221749</td>\n",
              "      <td>0.885720</td>\n",
              "      <td>0.465877</td>\n",
              "      <td>0.444048</td>\n",
              "      <td>0.501313</td>\n",
              "      <td>0.338710</td>\n",
              "      <td>0.626411</td>\n",
              "      <td>0.442826</td>\n",
              "      <td>0.905149</td>\n",
              "      <td>0.612425</td>\n",
              "      <td>0.709805</td>\n",
              "      <td>0.513519</td>\n",
              "      <td>0.770139</td>\n",
              "      <td>0.529895</td>\n",
              "      <td>0.421556</td>\n",
              "      <td>0.456546</td>\n",
              "      <td>0.469835</td>\n",
              "      <td>0.149998</td>\n",
              "      <td>0.150874</td>\n",
              "      <td>0.424001</td>\n",
              "      <td>0.115179</td>\n",
              "      <td>0.421897</td>\n",
              "      <td>0.384301</td>\n",
              "      <td>0.261436</td>\n",
              "      <td>0.089121</td>\n",
              "      <td>0.078228</td>\n",
              "      <td>79.327500</td>\n",
              "    </tr>\n",
              "    <tr>\n",
              "      <th>max</th>\n",
              "      <td>133114.000000</td>\n",
              "      <td>2.454930</td>\n",
              "      <td>22.057729</td>\n",
              "      <td>9.382558</td>\n",
              "      <td>16.875344</td>\n",
              "      <td>34.801666</td>\n",
              "      <td>22.529298</td>\n",
              "      <td>36.677268</td>\n",
              "      <td>20.007208</td>\n",
              "      <td>15.594995</td>\n",
              "      <td>23.745136</td>\n",
              "      <td>12.018913</td>\n",
              "      <td>7.848392</td>\n",
              "      <td>4.569009</td>\n",
              "      <td>10.526766</td>\n",
              "      <td>5.784514</td>\n",
              "      <td>6.098529</td>\n",
              "      <td>9.253526</td>\n",
              "      <td>5.041069</td>\n",
              "      <td>5.591971</td>\n",
              "      <td>39.420904</td>\n",
              "      <td>27.202839</td>\n",
              "      <td>10.503090</td>\n",
              "      <td>19.002942</td>\n",
              "      <td>4.022866</td>\n",
              "      <td>7.519589</td>\n",
              "      <td>3.517346</td>\n",
              "      <td>12.152401</td>\n",
              "      <td>33.847808</td>\n",
              "      <td>19656.530000</td>\n",
              "    </tr>\n",
              "  </tbody>\n",
              "</table>\n",
              "</div>"
            ],
            "text/plain": [
              "                Time             V1  ...            V28         Amount\n",
              "count  199747.000000  199747.000000  ...  199746.000000  199746.000000\n",
              "mean    70564.403310      -0.105027  ...       0.001885      89.756031\n",
              "std     34578.428154       1.893451  ...       0.314602     248.778568\n",
              "min         0.000000     -56.407510  ...     -11.710896       0.000000\n",
              "25%     44274.000000      -0.962081  ...      -0.041720       5.990000\n",
              "50%     67318.000000      -0.090332  ...       0.018449      23.000000\n",
              "75%     91993.500000       1.214144  ...       0.078228      79.327500\n",
              "max    133114.000000       2.454930  ...      33.847808   19656.530000\n",
              "\n",
              "[8 rows x 30 columns]"
            ]
          },
          "metadata": {
            "tags": []
          },
          "execution_count": 5
        }
      ]
    },
    {
      "cell_type": "markdown",
      "metadata": {
        "id": "hA3lClcrsJx0",
        "colab_type": "text"
      },
      "source": [
        "# Check null Values"
      ]
    },
    {
      "cell_type": "code",
      "metadata": {
        "id": "DMm_qwNtsOc3",
        "colab_type": "code",
        "colab": {
          "base_uri": "https://localhost:8080/",
          "height": 554
        },
        "outputId": "de8386bf-29ba-43e8-a11d-b599d629cd61"
      },
      "source": [
        "df.isnull().sum()"
      ],
      "execution_count": null,
      "outputs": [
        {
          "output_type": "execute_result",
          "data": {
            "text/plain": [
              "Time      0\n",
              "V1        0\n",
              "V2        0\n",
              "V3        0\n",
              "V4        0\n",
              "V5        0\n",
              "V6        0\n",
              "V7        0\n",
              "V8        0\n",
              "V9        0\n",
              "V10       0\n",
              "V11       0\n",
              "V12       0\n",
              "V13       0\n",
              "V14       0\n",
              "V15       0\n",
              "V16       0\n",
              "V17       0\n",
              "V18       0\n",
              "V19       0\n",
              "V20       0\n",
              "V21       0\n",
              "V22       0\n",
              "V23       0\n",
              "V24       0\n",
              "V25       0\n",
              "V26       0\n",
              "V27       1\n",
              "V28       1\n",
              "Amount    1\n",
              "Class     1\n",
              "dtype: int64"
            ]
          },
          "metadata": {
            "tags": []
          },
          "execution_count": 7
        }
      ]
    },
    {
      "cell_type": "markdown",
      "metadata": {
        "id": "TS68TlH1sOwV",
        "colab_type": "text"
      },
      "source": [
        "# Check duplicate values"
      ]
    },
    {
      "cell_type": "code",
      "metadata": {
        "id": "jQRp87JysTdG",
        "colab_type": "code",
        "colab": {
          "base_uri": "https://localhost:8080/",
          "height": 554
        },
        "outputId": "dc27b628-8bb5-48f4-bf38-2a31870d906c"
      },
      "source": [
        "d=df.duplicated()\n",
        "df.isnull().sum()"
      ],
      "execution_count": null,
      "outputs": [
        {
          "output_type": "execute_result",
          "data": {
            "text/plain": [
              "Time      0\n",
              "V1        0\n",
              "V2        0\n",
              "V3        0\n",
              "V4        0\n",
              "V5        0\n",
              "V6        0\n",
              "V7        0\n",
              "V8        0\n",
              "V9        0\n",
              "V10       0\n",
              "V11       0\n",
              "V12       0\n",
              "V13       0\n",
              "V14       0\n",
              "V15       0\n",
              "V16       0\n",
              "V17       0\n",
              "V18       0\n",
              "V19       0\n",
              "V20       0\n",
              "V21       0\n",
              "V22       0\n",
              "V23       0\n",
              "V24       0\n",
              "V25       0\n",
              "V26       0\n",
              "V27       1\n",
              "V28       1\n",
              "Amount    1\n",
              "Class     1\n",
              "dtype: int64"
            ]
          },
          "metadata": {
            "tags": []
          },
          "execution_count": 12
        }
      ]
    },
    {
      "cell_type": "markdown",
      "metadata": {
        "id": "YcSJOoGLsUuX",
        "colab_type": "text"
      },
      "source": [
        "# Filter for different condition - come up with insights from the dataset , basic plot , distribution plots"
      ]
    },
    {
      "cell_type": "code",
      "metadata": {
        "id": "9L-4Oe5xsaSA",
        "colab_type": "code",
        "colab": {
          "base_uri": "https://localhost:8080/",
          "height": 506
        },
        "outputId": "e95d7a61-5fbc-4f82-8180-0fb43a03e4c5"
      },
      "source": [
        "import seaborn as sns\n",
        "import matplotlib.pyplot as plt\n",
        "df.plot()\n",
        "  "
      ],
      "execution_count": 3,
      "outputs": [
        {
          "output_type": "execute_result",
          "data": {
            "text/plain": [
              "<matplotlib.axes._subplots.AxesSubplot at 0x7fa9a17a0cc0>"
            ]
          },
          "metadata": {
            "tags": []
          },
          "execution_count": 3
        },
        {
          "output_type": "display_data",
          "data": {
            "image/png": "[encoded data removed]",
            "text/plain": [
              "<Figure size 432x288 with 1 Axes>"
            ]
          },
          "metadata": {
            "tags": [],
            "needs_background": "light"
          }
        }
      ]
    },
    {
      "cell_type": "code",
      "metadata": {
        "id": "o61arrjjFbi8",
        "colab_type": "code",
        "colab": {
          "base_uri": "https://localhost:8080/",
          "height": 506
        },
        "outputId": "2b53df2a-d09f-4545-b3b5-23829be1d766"
      },
      "source": [
        "d.plot()"
      ],
      "execution_count": 6,
      "outputs": [
        {
          "output_type": "execute_result",
          "data": {
            "text/plain": [
              "<matplotlib.axes._subplots.AxesSubplot at 0x7fa9a187fe10>"
            ]
          },
          "metadata": {
            "tags": []
          },
          "execution_count": 6
        },
        {
          "output_type": "display_data",
          "data": {
            "image/png": "[encoded data removed]",
            "text/plain": [
              "<Figure size 432x288 with 1 Axes>"
            ]
          },
          "metadata": {
            "tags": [],
            "needs_background": "light"
          }
        }
      ]
    },
    {
      "cell_type": "markdown",
      "metadata": {
        "id": "ehyJSYbGseHB",
        "colab_type": "text"
      },
      "source": [
        "# Use a histogram to plot different columns"
      ]
    },
    {
      "cell_type": "code",
      "metadata": {
        "id": "XeiIgJsCsfUp",
        "colab_type": "code",
        "colab": {
          "base_uri": "https://localhost:8080/",
          "height": 1000
        },
        "outputId": "0da4ba63-5c41-4753-c7db-f9e9480144c1"
      },
      "source": [
        "df.hist(figsize=(20,20))"
      ],
      "execution_count": 22,
      "outputs": [
        {
          "output_type": "execute_result",
          "data": {
            "text/plain": [
              "array([[<matplotlib.axes._subplots.AxesSubplot object at 0x7fea0885dba8>,\n",
              "        <matplotlib.axes._subplots.AxesSubplot object at 0x7fea08826438>,\n",
              "        <matplotlib.axes._subplots.AxesSubplot object at 0x7fea088546a0>,\n",
              "        <matplotlib.axes._subplots.AxesSubplot object at 0x7fea08806908>,\n",
              "        <matplotlib.axes._subplots.AxesSubplot object at 0x7fea087b5b70>],\n",
              "       [<matplotlib.axes._subplots.AxesSubplot object at 0x7fea08768dd8>,\n",
              "        <matplotlib.axes._subplots.AxesSubplot object at 0x7fea08725080>,\n",
              "        <matplotlib.axes._subplots.AxesSubplot object at 0x7fea087542b0>,\n",
              "        <matplotlib.axes._subplots.AxesSubplot object at 0x7fea08754320>,\n",
              "        <matplotlib.axes._subplots.AxesSubplot object at 0x7fea086b67b8>],\n",
              "       [<matplotlib.axes._subplots.AxesSubplot object at 0x7fea08667a20>,\n",
              "        <matplotlib.axes._subplots.AxesSubplot object at 0x7fea0861cc88>,\n",
              "        <matplotlib.axes._subplots.AxesSubplot object at 0x7fea088c9898>,\n",
              "        <matplotlib.axes._subplots.AxesSubplot object at 0x7fea08814668>,\n",
              "        <matplotlib.axes._subplots.AxesSubplot object at 0x7fea0865c160>],\n",
              "       [<matplotlib.axes._subplots.AxesSubplot object at 0x7fea0573a630>,\n",
              "        <matplotlib.axes._subplots.AxesSubplot object at 0x7fea05732438>,\n",
              "        <matplotlib.axes._subplots.AxesSubplot object at 0x7fea083d1d68>,\n",
              "        <matplotlib.axes._subplots.AxesSubplot object at 0x7fea04417ac8>,\n",
              "        <matplotlib.axes._subplots.AxesSubplot object at 0x7fea0435a400>],\n",
              "       [<matplotlib.axes._subplots.AxesSubplot object at 0x7fea06dc50b8>,\n",
              "        <matplotlib.axes._subplots.AxesSubplot object at 0x7fea09d39908>,\n",
              "        <matplotlib.axes._subplots.AxesSubplot object at 0x7fea09d444a8>,\n",
              "        <matplotlib.axes._subplots.AxesSubplot object at 0x7fea09d87cf8>,\n",
              "        <matplotlib.axes._subplots.AxesSubplot object at 0x7fea09be7b70>],\n",
              "       [<matplotlib.axes._subplots.AxesSubplot object at 0x7fea09d047f0>,\n",
              "        <matplotlib.axes._subplots.AxesSubplot object at 0x7fea06d33cf8>,\n",
              "        <matplotlib.axes._subplots.AxesSubplot object at 0x7fea082b0be0>,\n",
              "        <matplotlib.axes._subplots.AxesSubplot object at 0x7fea09cf0550>,\n",
              "        <matplotlib.axes._subplots.AxesSubplot object at 0x7fea081a37b8>]],\n",
              "      dtype=object)"
            ]
          },
          "metadata": {
            "tags": []
          },
          "execution_count": 22
        },
        {
          "output_type": "display_data",
          "data": {
            "image/png": "[encoded data removed]",
            "text/plain": [
              "<Figure size 1440x1440 with 30 Axes>"
            ]
          },
          "metadata": {
            "tags": [],
            "needs_background": "light"
          }
        }
      ]
    }
  ]
}