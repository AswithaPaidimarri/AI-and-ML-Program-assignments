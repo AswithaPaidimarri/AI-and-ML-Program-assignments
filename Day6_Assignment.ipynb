{
  "nbformat": 4,
  "nbformat_minor": 0,
  "metadata": {
    "colab": {
      "name": "Day6_Assignment.ipynb",
      "provenance": [],
      "collapsed_sections": []
    },
    "kernelspec": {
      "name": "python3",
      "display_name": "Python 3"
    }
  },
  "cells": [
    {
      "cell_type": "markdown",
      "metadata": {
        "id": "9lDFeXGyLWzX",
        "colab_type": "text"
      },
      "source": [
        "# **AI and ML Program by letsUpgrade**\n",
        "# **DAY6 ASSIGNMENT**\n",
        "# **SUBMITTED BY**\n",
        "# **NAME:-PAIDIMARRI VENKATA SAI ASWITHA**"
      ]
    },
    {
      "cell_type": "markdown",
      "metadata": {
        "id": "qeVs1N0FMc3V",
        "colab_type": "text"
      },
      "source": [
        "# **Question1**\n",
        "Assuming that we have some email addresses in the \"username@companyname.com\" format, please\n",
        "write a program to print the company name of a given email address. Both user names and company\n",
        "names are composed of letters only.\n",
        "Input Format:\n",
        "The first line of the input contains an email address.\n",
        "Output Format:\n",
        "Print the company name in a single line.\n",
        "Example;\n",
        "Input:\n",
        "john@google.com\n",
        "Output:\n",
        "google."
      ]
    },
    {
      "cell_type": "code",
      "metadata": {
        "id": "kOzCT-iYLVWx",
        "colab_type": "code",
        "colab": {
          "base_uri": "https://localhost:8080/",
          "height": 50
        },
        "outputId": "509dc909-8441-44db-d51e-6517cf797f1b"
      },
      "source": [
        "mail=input()\n",
        "i=mail.index('@')\n",
        "print(mail[i+1:len(mail)-4])"
      ],
      "execution_count": 3,
      "outputs": [
        {
          "output_type": "stream",
          "text": [
            "john@google.com\n",
            "google\n"
          ],
          "name": "stdout"
        }
      ]
    },
    {
      "cell_type": "markdown",
      "metadata": {
        "id": "A4EkLyz-Phd0",
        "colab_type": "text"
      },
      "source": [
        "# **Question2**\n",
        "Write a program that accepts a comma-separated sequence of words as input and prints the words in a\n",
        "comma-separated sequence after sorting them alphabetically.\n",
        "Input Format:\n",
        "The first line of input contains words separated by the comma.\n",
        "Output Format:\n",
        "Print the sorted words separated by the comma.\n",
        "Example:\n",
        "Input:\n",
        "without,hello,bag,world\n",
        "Output:\n",
        "bag,hello,without,world"
      ]
    },
    {
      "cell_type": "code",
      "metadata": {
        "id": "11_V6CZ6PqQA",
        "colab_type": "code",
        "colab": {
          "base_uri": "https://localhost:8080/",
          "height": 50
        },
        "outputId": "168963bb-5043-4b6a-d9b1-6be2bcd55e8d"
      },
      "source": [
        "a=[str(x) for x in input().split(',')] \n",
        "a.sort()\n",
        "b=\",\".join(a)\n",
        "print(b)"
      ],
      "execution_count": 2,
      "outputs": [
        {
          "output_type": "stream",
          "text": [
            "without,hello,bag,world \n",
            "bag,hello,without,world \n"
          ],
          "name": "stdout"
        }
      ]
    },
    {
      "cell_type": "markdown",
      "metadata": {
        "id": "fcJFddQyW-hl",
        "colab_type": "text"
      },
      "source": [
        "# **Question3**\n",
        "# **Create your own Jupyter Notebook for Sets.**"
      ]
    },
    {
      "cell_type": "markdown",
      "metadata": {
        "id": "dmI1Qe2eYb4j",
        "colab_type": "text"
      },
      "source": [
        "# Create a Set:"
      ]
    },
    {
      "cell_type": "code",
      "metadata": {
        "id": "19Ka-zyRYX8D",
        "colab_type": "code",
        "colab": {
          "base_uri": "https://localhost:8080/",
          "height": 34
        },
        "outputId": "8f8f1213-7c17-4f40-f9ff-22c17a3027f3"
      },
      "source": [
        "set={'lets','upgrade','AI','ML','Program'}\n",
        "print(set)"
      ],
      "execution_count": null,
      "outputs": [
        {
          "output_type": "stream",
          "text": [
            "{'Program', 'upgrade', 'ML', 'lets', 'AI'}\n"
          ],
          "name": "stdout"
        }
      ]
    },
    {
      "cell_type": "markdown",
      "metadata": {
        "id": "OoqvEEFuZG_e",
        "colab_type": "text"
      },
      "source": [
        "# Access Items"
      ]
    },
    {
      "cell_type": "code",
      "metadata": {
        "id": "8DSQSJuWZOrp",
        "colab_type": "code",
        "colab": {
          "base_uri": "https://localhost:8080/",
          "height": 101
        },
        "outputId": "cc7c42c2-15c0-41cb-c48a-7ec8ede44796"
      },
      "source": [
        "set={'lets','upgrade','AI','ML','Program'}\n",
        "for i in set:\n",
        "  print(i)"
      ],
      "execution_count": null,
      "outputs": [
        {
          "output_type": "stream",
          "text": [
            "Program\n",
            "upgrade\n",
            "ML\n",
            "lets\n",
            "AI\n"
          ],
          "name": "stdout"
        }
      ]
    },
    {
      "cell_type": "markdown",
      "metadata": {
        "id": "f627ch23Z2d8",
        "colab_type": "text"
      },
      "source": [
        "# Add Items"
      ]
    },
    {
      "cell_type": "code",
      "metadata": {
        "id": "LrlxV7qgZ4yS",
        "colab_type": "code",
        "colab": {
          "base_uri": "https://localhost:8080/",
          "height": 50
        },
        "outputId": "d2d5e4cf-82c6-4fb7-c9e9-78a8787e5c72"
      },
      "source": [
        "set={'lets','upgrade','AI','ML','Program'}\n",
        "set.add('Batch2')\n",
        "print(set)\n",
        "set.update(['Day6','Assignment','Submission'])\n",
        "print(set)"
      ],
      "execution_count": null,
      "outputs": [
        {
          "output_type": "stream",
          "text": [
            "{'Program', 'upgrade', 'ML', 'lets', 'Batch2', 'AI'}\n",
            "{'Program', 'upgrade', 'Day6', 'Assignment', 'ML', 'lets', 'Batch2', 'AI', 'Submission'}\n"
          ],
          "name": "stdout"
        }
      ]
    },
    {
      "cell_type": "markdown",
      "metadata": {
        "id": "0S0W4XMmbFLg",
        "colab_type": "text"
      },
      "source": [
        "# Get the Length of a Set"
      ]
    },
    {
      "cell_type": "code",
      "metadata": {
        "id": "dpOKxhlAbHJ9",
        "colab_type": "code",
        "colab": {
          "base_uri": "https://localhost:8080/",
          "height": 34
        },
        "outputId": "c69dabf5-76bd-4535-916f-9b2fba623f6d"
      },
      "source": [
        "set={'lets','upgrade','AI','ML','Program'}\n",
        "print(len(set))"
      ],
      "execution_count": null,
      "outputs": [
        {
          "output_type": "stream",
          "text": [
            "5\n"
          ],
          "name": "stdout"
        }
      ]
    },
    {
      "cell_type": "markdown",
      "metadata": {
        "id": "T0-oIt6UbghZ",
        "colab_type": "text"
      },
      "source": [
        "# Remove Item"
      ]
    },
    {
      "cell_type": "code",
      "metadata": {
        "id": "VaNVhCNYblxb",
        "colab_type": "code",
        "colab": {
          "base_uri": "https://localhost:8080/",
          "height": 34
        },
        "outputId": "680f7375-78a2-4e61-ed09-28530ddaa872"
      },
      "source": [
        "set={'lets','upgrade','AI','ML','Program'}\n",
        "set.remove('lets')\n",
        "print(set)"
      ],
      "execution_count": null,
      "outputs": [
        {
          "output_type": "stream",
          "text": [
            "{'Program', 'upgrade', 'ML', 'AI'}\n"
          ],
          "name": "stdout"
        }
      ]
    },
    {
      "cell_type": "markdown",
      "metadata": {
        "id": "vfqCfAszcBEv",
        "colab_type": "text"
      },
      "source": [
        "# Pop()"
      ]
    },
    {
      "cell_type": "code",
      "metadata": {
        "id": "cX3c6TcAb-8t",
        "colab_type": "code",
        "colab": {
          "base_uri": "https://localhost:8080/",
          "height": 34
        },
        "outputId": "4998a399-e90c-4af3-dfec-722b400d3c2b"
      },
      "source": [
        "set={'lets','upgrade','AI','ML','Program'}\n",
        "set.pop()\n",
        "print(set)"
      ],
      "execution_count": null,
      "outputs": [
        {
          "output_type": "stream",
          "text": [
            "{'upgrade', 'ML', 'lets', 'AI'}\n"
          ],
          "name": "stdout"
        }
      ]
    },
    {
      "cell_type": "markdown",
      "metadata": {
        "id": "7698m79ecbjt",
        "colab_type": "text"
      },
      "source": [
        "# Join Two Sets"
      ]
    },
    {
      "cell_type": "code",
      "metadata": {
        "id": "lIWG4v3yc0a1",
        "colab_type": "code",
        "colab": {
          "base_uri": "https://localhost:8080/",
          "height": 34
        },
        "outputId": "36b81e15-4000-44bb-90d9-62a146f46fef"
      },
      "source": [
        "set={'lets','upgrade','AI','ML','Program'}\n",
        "set1={'Day6','Assignment','Submission'}\n",
        "set2 = set.union(set1)\n",
        "print(set2)"
      ],
      "execution_count": null,
      "outputs": [
        {
          "output_type": "stream",
          "text": [
            "{'ML', 'lets', 'Submission', 'Program', 'upgrade', 'AI', 'Assignment', 'Day6'}\n"
          ],
          "name": "stdout"
        }
      ]
    },
    {
      "cell_type": "markdown",
      "metadata": {
        "id": "CtJsu2tOfasD",
        "colab_type": "text"
      },
      "source": [
        "# **Question4**\n",
        "Given a list of n-1 numbers ranging from 1 to n, your task is to find the missing number. There are no\n",
        "duplicates.\n",
        "Input Format:\n",
        "The first line contains n-1 numbers with each number separated by a space.\n",
        "Output Format:\n",
        "Print the missing number\n",
        "Example:\n",
        "Input:\n",
        "1 2 4 6 3 7 8\n",
        "Output:\n",
        "5\n",
        "Explanation:\n",
        "In the above list of numbers 5 is missing and hence 5 is the input"
      ]
    },
    {
      "cell_type": "code",
      "metadata": {
        "id": "Ibg4EWLpKjoH",
        "colab_type": "code",
        "colab": {
          "base_uri": "https://localhost:8080/",
          "height": 50
        },
        "outputId": "ce2c71d1-e5a7-4bb0-b31a-f01dbd886aeb"
      },
      "source": [
        "a=[int(i) for i in input().split()]\n",
        "s=set(a)\n",
        "for i in range(1,len(a)+1):\n",
        "  if i not in s:\n",
        "    print(i)"
      ],
      "execution_count": null,
      "outputs": [
        {
          "output_type": "stream",
          "text": [
            "1 2 4 6 3 7 8 \n",
            "5\n"
          ],
          "name": "stdout"
        }
      ]
    },
    {
      "cell_type": "markdown",
      "metadata": {
        "id": "kYKlYQ8KhFSw",
        "colab_type": "text"
      },
      "source": [
        "\n",
        "# **Question5**\n",
        "With a given list L, write a program to print this list L after removing all duplicate values with original order\n",
        "reserved.\n",
        "Example:\n",
        "If the input list is\n",
        "12 24 35 24 88 120 155 88 120 155\n",
        "Then the output should be\n",
        "12 24 35 88 120 155\n",
        "Explanation:\n",
        "Third, the seventh and ninth element of the list L has been removed because it was already present.\n",
        "Input Format:\n",
        "In one line take the elements of the list L with each element separated by a space.\n",
        "Output Format:\n",
        "Print the elements of the modified list in one line with each element separated by a space.\n",
        "Example:\n",
        "Input:\n",
        "12 24 35 24\n",
        "Output:\n",
        "12 24 35"
      ]
    },
    {
      "cell_type": "code",
      "metadata": {
        "id": "qjxowlfrhPXC",
        "colab_type": "code",
        "colab": {
          "base_uri": "https://localhost:8080/",
          "height": 50
        },
        "outputId": "fe8211a8-0f34-4e80-cda0-3625e3772b59"
      },
      "source": [
        "a=[int(x) for x in input().split()] \n",
        "l=[]\n",
        "for i in a:\n",
        "  if i not in l:\n",
        "    l.append(i)\n",
        "for j in l:\n",
        "  print(j,end=' ')"
      ],
      "execution_count": null,
      "outputs": [
        {
          "output_type": "stream",
          "text": [
            "12 24 35 24\n",
            "12 24 35 "
          ],
          "name": "stdout"
        }
      ]
    }
  ]
}