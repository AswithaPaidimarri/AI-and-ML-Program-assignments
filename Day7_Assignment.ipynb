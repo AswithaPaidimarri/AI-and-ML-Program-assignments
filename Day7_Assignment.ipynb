{
  "nbformat": 4,
  "nbformat_minor": 0,
  "metadata": {
    "colab": {
      "name": "Day7_Assignment.ipynb",
      "provenance": [],
      "collapsed_sections": []
    },
    "kernelspec": {
      "name": "python3",
      "display_name": "Python 3"
    }
  },
  "cells": [
    {
      "cell_type": "markdown",
      "metadata": {
        "id": "4Y1QEhDBpVM8",
        "colab_type": "text"
      },
      "source": [
        "# **AI and ML Program by letsUpgrade**\n",
        "# **DAY7 ASSIGNMENT**\n",
        "# **SUBMITTED BY**\n",
        "# **NAME:-PAIDIMARRI VENKATA SAI ASWITHA**"
      ]
    },
    {
      "cell_type": "markdown",
      "metadata": {
        "id": "2AAiMzrfp0p6",
        "colab_type": "text"
      },
      "source": [
        "# **Question1**\n",
        "Write a program to copy the contents of one file to another using a for loop. (Don’t use built-in copy function)"
      ]
    },
    {
      "cell_type": "code",
      "metadata": {
        "id": "Po7M5gYe1_lw",
        "colab_type": "code",
        "colab": {}
      },
      "source": [
        "f=open('f1.txt')\n",
        "f1=open('cpy.txt','w')\n",
        "for i in f:\n",
        "   f1.write(i)\n",
        "\n",
        "\n",
        "\n",
        "\n"
      ],
      "execution_count": null,
      "outputs": []
    },
    {
      "cell_type": "markdown",
      "metadata": {
        "id": "HS6m46v240PO",
        "colab_type": "text"
      },
      "source": [
        "# **Question2**\n",
        "Write a Python program to find maximum and minimum values in the dictionary. Do not use built-in min\n",
        "and max functions."
      ]
    },
    {
      "cell_type": "code",
      "metadata": {
        "id": "RhdErZoX9tdB",
        "colab_type": "code",
        "colab": {
          "base_uri": "https://localhost:8080/",
          "height": 50
        },
        "outputId": "ecae3cf2-7c93-4e01-d7e1-486bc867e5c1"
      },
      "source": [
        "d={1:'300',2:'400',3:'500',4:'90',5:'340'}\n",
        "m=-1\n",
        "n=-1\n",
        "for i in range(1,len(d)):\n",
        "  if int(d[i])>int(m):\n",
        "    m=d[i]\n",
        "  if int(d[i])<int(m):\n",
        "    n=d[i]\n",
        "print(\"maximum value in dictionary:\",m)\n",
        "print(\"minimum value in dictionary:\",n)"
      ],
      "execution_count": 9,
      "outputs": [
        {
          "output_type": "stream",
          "text": [
            "maximum value in dictionary: 500\n",
            "minimum value in dictionary: 90\n"
          ],
          "name": "stdout"
        }
      ]
    }
  ]
}